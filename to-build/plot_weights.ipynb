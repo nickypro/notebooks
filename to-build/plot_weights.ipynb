{
 "cells": [
  {
   "cell_type": "markdown",
   "metadata": {},
   "source": [
    "Notebook which plots the raw matrices of a model (pythia-160m), deletes some of\n",
    "the rows/columns, and plots them again. "
   ]
  },
  {
   "cell_type": "code",
   "execution_count": null,
   "metadata": {},
   "outputs": [],
   "source": [
    "! pip install seaborn -qq\n",
    "! git rev-parse --short HEAD\n",
    "import matplotlib.pyplot as plt\n",
    "import seaborn as sns\n",
    "from separability import Model\n",
    "from separability.activations import prune_and_evaluate\n",
    "from separability.data_classes import PruningConfig\n",
    "from separability.eval import evaluate_all"
   ]
  },
  {
   "cell_type": "code",
   "execution_count": null,
   "metadata": {},
   "outputs": [],
   "source": [
    "c = PruningConfig(\"EleutherAI/pythia-160m\",\n",
    "    ff_frac=0, attn_frac=0.5, attn_scoring=\"abs\",\n",
    "    eval_sample_size=1000, collection_sample_size=1000, run_pre_test=False\n",
    ")\n",
    "opt = Model(c.model_repo, 1000, model_device=\"cpu\")\n",
    "\n",
    "def make_plot():\n",
    "    d = opt.cfg.d_model\n",
    "    W_V = opt.layers[0][\"attn.W_V\"].reshape((d, d))\n",
    "    W_O = opt.layers[0][\"attn.W_O\"].reshape((d, d))\n",
    "    b_V = opt.layers[0][\"attn.b_V\"].reshape((1, d))\n",
    "    b_O = opt.layers[0][\"attn.b_O\"].reshape((1, d))\n",
    "    fig, ax = plt.subplots(1, 4, figsize=(10, 5), gridspec_kw={'width_ratios': [6,1,6,1]})\n",
    "    sns.heatmap(W_V.detach().numpy(), vmin=-0.01, center=0, vmax=0.01, ax=ax[0], cbar=False)\n",
    "    sns.heatmap(b_V.detach().reshape((-1,1)).numpy(), vmin=-0.01, center=0, vmax=0.01, ax=ax[1], cbar=False)\n",
    "    sns.heatmap(W_O.detach().numpy(), vmin=-0.01, center=0, vmax=0.01, ax=ax[2], cbar=False)\n",
    "    sns.heatmap(b_O.detach().reshape((-1,1)).numpy(), vmin=-0.01, center=0, vmax=0.01, ax=ax[3], cbar=False)\n",
    "    plt.show()\n",
    "\n",
    "    W_in, W_out = opt.layers[0][\"mlp.W_in\"], opt.layers[0][\"mlp.W_out\"]\n",
    "    b_in, b_out = opt.layers[0][\"mlp.b_in\"], opt.layers[0][\"mlp.b_out\"]\n",
    "    fig, ax = plt.subplots(1, 4, figsize=(10, 5), gridspec_kw={'width_ratios': [6,1,6,1]})\n",
    "    sns.heatmap( W_in.detach().numpy(), vmin=-0.01, center=0, vmax=0.01, ax=ax[0], cbar=False)\n",
    "    sns.heatmap( b_in.detach().reshape((-1,1)).numpy(), vmin=-0.01, center=0, vmax=0.01, ax=ax[1], cbar=False)\n",
    "    sns.heatmap(W_out.detach().numpy(), vmin=-0.01, center=0, vmax=0.01, ax=ax[2], cbar=False)\n",
    "    sns.heatmap(b_out.detach().reshape((-1,1)).numpy(), vmin=-0.01, center=0, vmax=0.01, ax=ax[3], cbar=False)\n",
    "    plt.show()\n",
    "\n",
    "    qkv = opt.layers[0][\"attn\"].query_key_value\n",
    "    plt.figure(figsize=(10, 5))\n",
    "    fig, ax = plt.subplots(2, 1, figsize=(10, 5), gridspec_kw={'height_ratios': [1,6]})\n",
    "    sns.heatmap(qkv.bias.unsqueeze(dim=0).detach().numpy(), vmin=-0.01, center=0, vmax=0.01, cbar=False, ax=ax[0])\n",
    "    sns.heatmap(qkv.weight.T.detach().numpy(), vmin=-0.01, center=0, vmax=0.01, cbar=False, ax=ax[1])\n",
    "    plt.show()\n",
    "\n",
    "print(\"Before pruning:\")\n",
    "evaluate_all(opt, 1000, datasets=c.datasets)\n",
    "make_plot()\n",
    "\n",
    "\n",
    "prune_and_evaluate(opt, c)\n",
    "\n",
    "print(\"After pruning:\")\n",
    "make_plot()"
   ]
  }
 ],
 "metadata": {
  "kernelspec": {
   "display_name": ".venv",
   "language": "python",
   "name": "python3"
  },
  "language_info": {
   "codemirror_mode": {
    "name": "ipython",
    "version": 3
   },
   "file_extension": ".py",
   "mimetype": "text/x-python",
   "name": "python",
   "nbconvert_exporter": "python",
   "pygments_lexer": "ipython3",
   "version": "3.11.5"
  },
  "orig_nbformat": 4
 },
 "nbformat": 4,
 "nbformat_minor": 2
}
