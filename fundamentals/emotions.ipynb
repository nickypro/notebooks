{
 "cells": [
  {
   "cell_type": "code",
   "execution_count": null,
   "metadata": {},
   "outputs": [],
   "source": [
    "def get_emotion_prompt()\n",
    "\n",
    "prompt = \"\"\"USER: Consider the <emotion> in the following scenario:\n",
    "Scenario: <stimulus>\n",
    "ASSISTANT:\"\"\""
   ]
  }
 ],
 "metadata": {
  "language_info": {
   "name": "python"
  }
 },
 "nbformat": 4,
 "nbformat_minor": 2
}
