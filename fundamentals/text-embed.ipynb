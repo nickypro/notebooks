{
 "cells": [
  {
   "cell_type": "code",
   "execution_count": 4,
   "metadata": {},
   "outputs": [
    {
     "data": {
      "application/vnd.jupyter.widget-view+json": {
       "model_id": "22a1cbe01c674c80adac730585cf8776",
       "version_major": 2,
       "version_minor": 0
      },
      "text/plain": [
       "tokenizer_config.json:   0%|          | 0.00/956 [00:00<?, ?B/s]"
      ]
     },
     "metadata": {},
     "output_type": "display_data"
    },
    {
     "data": {
      "application/vnd.jupyter.widget-view+json": {
       "model_id": "6390ecb0c302480ca8edb3cfbba14a8e",
       "version_major": 2,
       "version_minor": 0
      },
      "text/plain": [
       "tokenizer.model:   0%|          | 0.00/493k [00:00<?, ?B/s]"
      ]
     },
     "metadata": {},
     "output_type": "display_data"
    },
    {
     "data": {
      "application/vnd.jupyter.widget-view+json": {
       "model_id": "665232b216204ecb982b93f91198783a",
       "version_major": 2,
       "version_minor": 0
      },
      "text/plain": [
       "tokenizer.json:   0%|          | 0.00/1.80M [00:00<?, ?B/s]"
      ]
     },
     "metadata": {},
     "output_type": "display_data"
    },
    {
     "data": {
      "application/vnd.jupyter.widget-view+json": {
       "model_id": "1936261dc55f47fc94cf84c2ef996532",
       "version_major": 2,
       "version_minor": 0
      },
      "text/plain": [
       "special_tokens_map.json:   0%|          | 0.00/624 [00:00<?, ?B/s]"
      ]
     },
     "metadata": {},
     "output_type": "display_data"
    },
    {
     "data": {
      "application/vnd.jupyter.widget-view+json": {
       "model_id": "1d51d7948aaa466193ee6219a32968d7",
       "version_major": 2,
       "version_minor": 0
      },
      "text/plain": [
       "config.json:   0%|          | 0.00/663 [00:00<?, ?B/s]"
      ]
     },
     "metadata": {},
     "output_type": "display_data"
    },
    {
     "data": {
      "application/vnd.jupyter.widget-view+json": {
       "model_id": "a282c849b5e74ef89c7616c43b19f06a",
       "version_major": 2,
       "version_minor": 0
      },
      "text/plain": [
       "model.safetensors.index.json:   0%|          | 0.00/22.2k [00:00<?, ?B/s]"
      ]
     },
     "metadata": {},
     "output_type": "display_data"
    },
    {
     "data": {
      "application/vnd.jupyter.widget-view+json": {
       "model_id": "5491c8d9e5274580bf3103766f39207b",
       "version_major": 2,
       "version_minor": 0
      },
      "text/plain": [
       "Downloading shards:   0%|          | 0/3 [00:00<?, ?it/s]"
      ]
     },
     "metadata": {},
     "output_type": "display_data"
    },
    {
     "data": {
      "application/vnd.jupyter.widget-view+json": {
       "model_id": "ab0386a5bf3c46d59fa68b7a3dd508d1",
       "version_major": 2,
       "version_minor": 0
      },
      "text/plain": [
       "model-00001-of-00003.safetensors:   0%|          | 0.00/4.94G [00:00<?, ?B/s]"
      ]
     },
     "metadata": {},
     "output_type": "display_data"
    },
    {
     "data": {
      "application/vnd.jupyter.widget-view+json": {
       "model_id": "5ec56b60a135442aba2fcfe1633f0716",
       "version_major": 2,
       "version_minor": 0
      },
      "text/plain": [
       "model-00002-of-00003.safetensors:   0%|          | 0.00/5.00G [00:00<?, ?B/s]"
      ]
     },
     "metadata": {},
     "output_type": "display_data"
    },
    {
     "data": {
      "application/vnd.jupyter.widget-view+json": {
       "model_id": "f038c3a582b74d41aa28caae5235b6dd",
       "version_major": 2,
       "version_minor": 0
      },
      "text/plain": [
       "model-00003-of-00003.safetensors:   0%|          | 0.00/4.28G [00:00<?, ?B/s]"
      ]
     },
     "metadata": {},
     "output_type": "display_data"
    },
    {
     "data": {
      "application/vnd.jupyter.widget-view+json": {
       "model_id": "5898f8042c0947ffbc5efa02ba967424",
       "version_major": 2,
       "version_minor": 0
      },
      "text/plain": [
       "Loading checkpoint shards:   0%|          | 0/3 [00:00<?, ?it/s]"
      ]
     },
     "metadata": {},
     "output_type": "display_data"
    },
    {
     "data": {
      "text/plain": [
       "MistralModel(\n",
       "  (embed_tokens): Embedding(32000, 4096, padding_idx=2)\n",
       "  (layers): ModuleList(\n",
       "    (0-31): 32 x MistralDecoderLayer(\n",
       "      (self_attn): MistralSdpaAttention(\n",
       "        (q_proj): Linear4bit(in_features=4096, out_features=4096, bias=False)\n",
       "        (k_proj): Linear4bit(in_features=4096, out_features=1024, bias=False)\n",
       "        (v_proj): Linear4bit(in_features=4096, out_features=1024, bias=False)\n",
       "        (o_proj): Linear4bit(in_features=4096, out_features=4096, bias=False)\n",
       "        (rotary_emb): MistralRotaryEmbedding()\n",
       "      )\n",
       "      (mlp): MistralMLP(\n",
       "        (gate_proj): Linear4bit(in_features=4096, out_features=14336, bias=False)\n",
       "        (up_proj): Linear4bit(in_features=4096, out_features=14336, bias=False)\n",
       "        (down_proj): Linear4bit(in_features=14336, out_features=4096, bias=False)\n",
       "        (act_fn): SiLU()\n",
       "      )\n",
       "      (input_layernorm): MistralRMSNorm()\n",
       "      (post_attention_layernorm): MistralRMSNorm()\n",
       "    )\n",
       "  )\n",
       "  (norm): MistralRMSNorm()\n",
       ")"
      ]
     },
     "execution_count": 4,
     "metadata": {},
     "output_type": "execute_result"
    }
   ],
   "source": [
    "import torch\n",
    "import torch.nn.functional as F\n",
    "\n",
    "from torch import Tensor\n",
    "from transformers import AutoTokenizer, AutoModel\n",
    "\n",
    "\n",
    "def last_token_pool(last_hidden_states: Tensor,\n",
    "                 attention_mask: Tensor) -> Tensor:\n",
    "    left_padding = (attention_mask[:, -1].sum() == attention_mask.shape[0])\n",
    "    if left_padding:\n",
    "        return last_hidden_states[:, -1]\n",
    "    else:\n",
    "        sequence_lengths = attention_mask.sum(dim=1) - 1\n",
    "        batch_size = last_hidden_states.shape[0]\n",
    "        return last_hidden_states[torch.arange(batch_size, device=last_hidden_states.device), sequence_lengths]\n",
    "\n",
    "#model_repo = 'intfloat/e5-mistral-7b-instruct'\n",
    "model_repo = \"Salesforce/SFR-Embedding-Mistral\"\n",
    "tokenizer = AutoTokenizer.from_pretrained(model_repo)\n",
    "model = AutoModel.from_pretrained(model_repo, load_in_4bit=True)\n",
    "\n",
    "model.eval()"
   ]
  },
  {
   "cell_type": "code",
   "execution_count": 5,
   "metadata": {},
   "outputs": [
    {
     "name": "stderr",
     "output_type": "stream",
     "text": [
      "You're using a LlamaTokenizerFast tokenizer. Please note that with a fast tokenizer, using the `__call__` method is faster than using a method to encode the text followed by a call to the `pad` method to get a padded encoding.\n"
     ]
    },
    {
     "name": "stdout",
     "output_type": "stream",
     "text": [
      "[[100.125, 39.5625, 83.0, 40.125, 47.6875, 44.375, 48.5625, 45.25, 40.8125], [39.5625, 100.0, 39.84375, 81.6875, 40.46875, 39.59375, 37.875, 37.5, 42.8125], [83.0, 39.84375, 100.0, 42.34375, 48.125, 44.125, 49.875, 46.34375, 38.75], [40.125, 81.6875, 42.34375, 100.0, 38.46875, 36.90625, 37.9375, 36.875, 43.25], [47.6875, 40.46875, 48.125, 38.46875, 99.9375, 94.6875, 74.5, 70.875, 41.75], [44.375, 39.59375, 44.125, 36.90625, 94.6875, 99.9375, 69.8125, 72.0, 42.90625], [48.5625, 37.875, 49.875, 37.9375, 74.5, 69.8125, 100.0, 92.4375, 39.53125], [45.25, 37.5, 46.34375, 36.875, 70.875, 72.0, 92.4375, 100.125, 39.9375], [40.8125, 42.8125, 38.75, 43.25, 41.75, 42.90625, 39.53125, 39.9375, 100.125]]\n"
     ]
    }
   ],
   "source": [
    "# Each query must come with a one-sentence instruction that describes the task\n",
    "def get_detailed_instruct(task_description: str, query: str) -> str:\n",
    "    return f'Instruct: {task_description}\\nQuery: {query}'\n",
    "\n",
    "task = 'Given a web search query, retrieve relevant passages that answer the query'\n",
    "queries = [\n",
    "    get_detailed_instruct(task, 'how much protein should a female eat'),\n",
    "    get_detailed_instruct(task, 'summit define')\n",
    "]\n",
    "# No need to add instruction for retrieval documents\n",
    "documents = [\n",
    "    \"As a general guideline, the CDC's average requirement of protein for women ages 19 to 70 is 46 grams per day. But, as you can see from this chart, you'll need to increase that if you're expecting or training for a marathon. Check out the chart below to see how much protein you should be eating each day.\",\n",
    "    \"Definition of summit for English Language Learners. : 1  the highest point of a mountain : the top of a mountain. : 2  the highest level. : 3  a meeting or series of meetings between the leaders of two or more governments.\"\n",
    "]\n",
    "\n",
    "recipes = [\n",
    "    \"\"\"Ingredients: 1 lb shrimp, 2 cups bell peppers (sliced), 1 cup pineapple chunks, 1/4 cup teriyaki sauce, 2 tbsp olive oil, 2 cloves garlic (minced), 1 tsp chili flakes, 2 cups cooked quinoa.\"\"\",\n",
    "    \"\"\"Instructions: Sauté shrimp, peppers, and garlic in olive oil. Add pineapple, teriyaki sauce, chili flakes. Cook until shrimp are pink. Serve over quinoa. Enjoy!\"\"\",\n",
    "    \"\"\"Ingredients: 1 lb chicken breasts, 2 cups broccoli florets, 1 cup sliced carrots, 1/4 cup soy sauce, 2 tbsp sesame oil, 2 tbsp honey, 2 cloves garlic(minced), 1 tsp ginger (grated), 2 cups cooked rice. \"\"\",\n",
    "    \"\"\"Instructions: Cook chicken in sesame oil until brown. Add broccoli, carrots, garlic, and ginger. Mix soy sauce and honey, add to pan. Cook until veggies are tender. Serve over rice.\"\"\"\n",
    "]\n",
    "\n",
    "math = [\"\"\"\n",
    "\\[\n",
    "\\begin{align*}\n",
    "\\text{Let } I &= \\int_0^\\infty e^{-x^2} dx. \\\\\n",
    "\\text{Consider } I^2 &= \\left( \\int_0^\\infty e^{-x^2} dx \\right)\\left( \\int_0^\\infty e^{-y^2} dy \\right) \\\\\n",
    "&= \\int_0^\\infty \\int_0^\\infty e^{-x^2 - y^2} dx dy. \\\\\n",
    "\\text{Switch to polar coordinates: } \\\\\n",
    "x^2 + y^2 &= r^2, \\\\\n",
    "dx dy &= r dr d\\theta, \\\\\n",
    "\\text{Bounds change to } 0 &\\leq r < \\infty, 0 \\leq \\theta \\leq \\frac{\\pi}{2}. \\\\\n",
    "\\therefore I^2 &= \\int_0^{\\frac{\\pi}{2}} \\int_0^\\infty e^{-r^2} r dr d\\theta \\\\\n",
    "&= \\int_0^{\\frac{\\pi}{2}} d\\theta \\int_0^\\infty e^{-r^2} r dr. \\\\\n",
    "\\text{Let } u &= r^2 \\Rightarrow du = 2r dr. \\\\\n",
    "\\text{Thus, } \\int_0^\\infty e^{-r^2} r dr &= \\frac{1}{2} \\int_0^\\infty e^{-u} du = \\frac{1}{2}. \\\\\n",
    "\\therefore I^2 &= \\frac{\\pi}{2} \\times \\frac{1}{2} = \\frac{\\pi}{4}. \\\\\n",
    "\\text{Hence, } I &= \\sqrt{\\frac{\\pi}{4}} = \\frac{\\sqrt{\\pi}}{2}.\n",
    "\\end{align*}\n",
    "\\]\n",
    "\"\"\"]\n",
    "input_texts = queries + documents + recipes + math\n",
    "\n",
    "with torch.no_grad():\n",
    "    max_length = 4096\n",
    "    # Tokenize the input texts\n",
    "    batch_dict = tokenizer(input_texts, max_length=max_length - 1, return_attention_mask=False, padding=False, truncation=True)\n",
    "    # append eos_token_id to every input_ids\n",
    "    batch_dict['input_ids'] = [input_ids + [tokenizer.eos_token_id] for input_ids in batch_dict['input_ids']]\n",
    "    batch_dict = tokenizer.pad(batch_dict, padding=True, return_attention_mask=True, return_tensors='pt')\n",
    "\n",
    "    outputs = model(**batch_dict)\n",
    "    embeddings = last_token_pool(outputs.last_hidden_state, batch_dict['attention_mask'])\n",
    "\n",
    "    # normalize embeddings\n",
    "    embeddings = F.normalize(embeddings, p=2, dim=1)\n",
    "    scores = (embeddings @ embeddings.T) * 100\n",
    "    print(scores.tolist())\n"
   ]
  },
  {
   "cell_type": "code",
   "execution_count": 7,
   "metadata": {},
   "outputs": [
    {
     "name": "stdout",
     "output_type": "stream",
     "text": [
      "[[99.9375, 46.875, 83.8125, 46.71875, 54.15625, 50.375, 55.65625, 53.03125, 47.3125], [46.875, 100.125, 46.15625, 81.625, 46.15625, 45.15625, 44.625, 44.8125, 49.40625], [83.8125, 46.15625, 100.0, 48.375, 53.71875, 48.90625, 56.0, 53.0625, 44.34375], [46.71875, 81.625, 48.375, 100.0, 44.28125, 42.25, 44.71875, 44.0625, 49.03125], [54.15625, 46.15625, 53.71875, 44.28125, 99.9375, 93.9375, 79.125, 76.0, 49.0], [50.375, 45.15625, 48.90625, 42.25, 93.9375, 100.125, 73.75, 77.5, 50.71875], [55.65625, 44.625, 56.0, 44.71875, 79.125, 73.75, 99.9375, 92.6875, 47.5], [53.03125, 44.8125, 53.0625, 44.0625, 76.0, 77.5, 92.6875, 100.125, 49.15625], [47.3125, 49.40625, 44.34375, 49.03125, 49.0, 50.71875, 47.5, 49.15625, 100.0]]\n"
     ]
    }
   ],
   "source": [
    "results_mistral_7b_embed = [[99.9375, 46.875, 83.8125, 46.71875, 54.15625, 50.375, 55.65625, 53.03125, 47.3125], [46.875, 100.125, 46.15625, 81.625, 46.15625, 45.15625, 44.625, 44.8125, 49.40625], [83.8125, 46.15625, 100.0, 48.375, 53.71875, 48.90625, 56.0, 53.0625, 44.34375], [46.71875, 81.625, 48.375, 100.0, 44.28125, 42.25, 44.71875, 44.0625, 49.03125], [54.15625, 46.15625, 53.71875, 44.28125, 99.9375, 93.9375, 79.125, 76.0, 49.0], [50.375, 45.15625, 48.90625, 42.25, 93.9375, 100.125, 73.75, 77.5, 50.71875], [55.65625, 44.625, 56.0, 44.71875, 79.125, 73.75, 99.9375, 92.6875, 47.5], [53.03125, 44.8125, 53.0625, 44.0625, 76.0, 77.5, 92.6875, 100.125, 49.15625], [47.3125, 49.40625, 44.34375, 49.03125, 49.0, 50.71875, 47.5, 49.15625, 100.0]]\n",
    "print(results_mistral_7b_embed)"
   ]
  },
  {
   "cell_type": "code",
   "execution_count": 6,
   "metadata": {},
   "outputs": [
    {
     "data": {
      "text/plain": [
       "<Axes: >"
      ]
     },
     "execution_count": 6,
     "metadata": {},
     "output_type": "execute_result"
    },
    {
     "data": {
      "image/png": "[encoded data removed]",
      "text/plain": [
       "<Figure size 640x480 with 2 Axes>"
      ]
     },
     "metadata": {},
     "output_type": "display_data"
    }
   ],
   "source": [
    "import seaborn as sns\n",
    "sns.heatmap(scores.tolist(), center=0.0)"
   ]
  }
 ],
 "metadata": {
  "kernelspec": {
   "display_name": ".venv",
   "language": "python",
   "name": "python3"
  },
  "language_info": {
   "codemirror_mode": {
    "name": "ipython",
    "version": 3
   },
   "file_extension": ".py",
   "mimetype": "text/x-python",
   "name": "python",
   "nbconvert_exporter": "python",
   "pygments_lexer": "ipython3",
   "version": "3.9.16"
  }
 },
 "nbformat": 4,
 "nbformat_minor": 2
}
