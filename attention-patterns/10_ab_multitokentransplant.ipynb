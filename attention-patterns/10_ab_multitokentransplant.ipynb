{
 "cells": [
  {
   "cell_type": "code",
   "execution_count": 1,
   "metadata": {},
   "outputs": [
    {
     "name": "stdout",
     "output_type": "stream",
     "text": [
      "Requirement already satisfied: taker in /workspace/SPAR/interp-ab/.venv/lib/python3.10/site-packages (1.0.1)\n",
      "Requirement already satisfied: accelerate<0.32.0,>=0.31.0 in /workspace/SPAR/interp-ab/.venv/lib/python3.10/site-packages (from taker) (0.31.0)\n",
      "Requirement already satisfied: antlr4-python3-runtime==4.11.1 in /workspace/SPAR/interp-ab/.venv/lib/python3.10/site-packages (from taker) (4.11.1)\n",
      "Requirement already satisfied: datasets<3.0.0,>=2.9.0 in /workspace/SPAR/interp-ab/.venv/lib/python3.10/site-packages (from taker) (2.20.0)\n",
      "Requirement already satisfied: dict-deep<5.0.0,>=4.1.2 in /workspace/SPAR/interp-ab/.venv/lib/python3.10/site-packages (from taker) (4.1.2)\n",
      "Requirement already satisfied: einops<0.7.0,>=0.6.0 in /workspace/SPAR/interp-ab/.venv/lib/python3.10/site-packages (from taker) (0.6.1)\n",
      "Requirement already satisfied: evaluate<0.5.0,>=0.4.0 in /workspace/SPAR/interp-ab/.venv/lib/python3.10/site-packages (from taker) (0.4.2)\n",
      "Requirement already satisfied: lm-eval<0.5.0,>=0.4.3 in /workspace/SPAR/interp-ab/.venv/lib/python3.10/site-packages (from taker) (0.4.3)\n",
      "Requirement already satisfied: numexpr<3.0.0,>=2.7.0 in /workspace/SPAR/interp-ab/.venv/lib/python3.10/site-packages (from taker) (2.10.1)\n",
      "Requirement already satisfied: numpy<2.0,>=1.23 in /workspace/SPAR/interp-ab/.venv/lib/python3.10/site-packages (from taker) (1.26.4)\n",
      "Requirement already satisfied: pandas<2.0.0,>=1.5.3 in /workspace/SPAR/interp-ab/.venv/lib/python3.10/site-packages (from taker) (1.5.3)\n",
      "Requirement already satisfied: scipy<2.0.0,>=1.11.1 in /workspace/SPAR/interp-ab/.venv/lib/python3.10/site-packages (from taker) (1.14.0)\n",
      "Requirement already satisfied: sentencepiece<0.2.0,>=0.1.99 in /workspace/SPAR/interp-ab/.venv/lib/python3.10/site-packages (from taker) (0.1.99)\n",
      "Requirement already satisfied: tokenizers<0.20.0,>=0.19.1 in /workspace/SPAR/interp-ab/.venv/lib/python3.10/site-packages (from taker) (0.19.1)\n",
      "Requirement already satisfied: torch<3.0.0,>=2.3.1 in /workspace/SPAR/interp-ab/.venv/lib/python3.10/site-packages (from taker) (2.4.0)\n",
      "Requirement already satisfied: transformers<5.0.0,>=4.41.0 in /workspace/SPAR/interp-ab/.venv/lib/python3.10/site-packages (from taker) (4.42.3)\n",
      "Requirement already satisfied: wandb<0.14.0,>=0.13.9 in /workspace/SPAR/interp-ab/.venv/lib/python3.10/site-packages (from taker) (0.13.11)\n",
      "Requirement already satisfied: welford-torch<0.3.0,>=0.2.4 in /workspace/SPAR/interp-ab/.venv/lib/python3.10/site-packages (from taker) (0.2.4)\n",
      "Requirement already satisfied: zstandard<0.20.0,>=0.19.0 in /workspace/SPAR/interp-ab/.venv/lib/python3.10/site-packages (from taker) (0.19.0)\n",
      "Requirement already satisfied: packaging>=20.0 in /workspace/SPAR/interp-ab/.venv/lib/python3.10/site-packages (from accelerate<0.32.0,>=0.31.0->taker) (24.1)\n",
      "Requirement already satisfied: psutil in /workspace/SPAR/interp-ab/.venv/lib/python3.10/site-packages (from accelerate<0.32.0,>=0.31.0->taker) (6.0.0)\n",
      "Requirement already satisfied: pyyaml in /workspace/SPAR/interp-ab/.venv/lib/python3.10/site-packages (from accelerate<0.32.0,>=0.31.0->taker) (6.0.1)\n",
      "Requirement already satisfied: huggingface-hub in /workspace/SPAR/interp-ab/.venv/lib/python3.10/site-packages (from accelerate<0.32.0,>=0.31.0->taker) (0.23.4)\n",
      "Requirement already satisfied: safetensors>=0.3.1 in /workspace/SPAR/interp-ab/.venv/lib/python3.10/site-packages (from accelerate<0.32.0,>=0.31.0->taker) (0.4.3)\n",
      "Requirement already satisfied: filelock in /workspace/SPAR/interp-ab/.venv/lib/python3.10/site-packages (from datasets<3.0.0,>=2.9.0->taker) (3.15.4)\n",
      "Requirement already satisfied: pyarrow>=15.0.0 in /workspace/SPAR/interp-ab/.venv/lib/python3.10/site-packages (from datasets<3.0.0,>=2.9.0->taker) (16.1.0)\n",
      "Requirement already satisfied: pyarrow-hotfix in /workspace/SPAR/interp-ab/.venv/lib/python3.10/site-packages (from datasets<3.0.0,>=2.9.0->taker) (0.6)\n",
      "Requirement already satisfied: dill<0.3.9,>=0.3.0 in /workspace/SPAR/interp-ab/.venv/lib/python3.10/site-packages (from datasets<3.0.0,>=2.9.0->taker) (0.3.8)\n",
      "Requirement already satisfied: requests>=2.32.2 in /workspace/SPAR/interp-ab/.venv/lib/python3.10/site-packages (from datasets<3.0.0,>=2.9.0->taker) (2.32.3)\n",
      "Requirement already satisfied: tqdm>=4.66.3 in /workspace/SPAR/interp-ab/.venv/lib/python3.10/site-packages (from datasets<3.0.0,>=2.9.0->taker) (4.66.4)\n",
      "Requirement already satisfied: xxhash in /workspace/SPAR/interp-ab/.venv/lib/python3.10/site-packages (from datasets<3.0.0,>=2.9.0->taker) (3.4.1)\n",
      "Requirement already satisfied: multiprocess in /workspace/SPAR/interp-ab/.venv/lib/python3.10/site-packages (from datasets<3.0.0,>=2.9.0->taker) (0.70.16)\n",
      "Requirement already satisfied: fsspec<=2024.5.0,>=2023.1.0 in /workspace/SPAR/interp-ab/.venv/lib/python3.10/site-packages (from fsspec[http]<=2024.5.0,>=2023.1.0->datasets<3.0.0,>=2.9.0->taker) (2024.5.0)\n",
      "Requirement already satisfied: aiohttp in /workspace/SPAR/interp-ab/.venv/lib/python3.10/site-packages (from datasets<3.0.0,>=2.9.0->taker) (3.9.5)\n",
      "Requirement already satisfied: jsonlines in /workspace/SPAR/interp-ab/.venv/lib/python3.10/site-packages (from lm-eval<0.5.0,>=0.4.3->taker) (4.0.0)\n",
      "Requirement already satisfied: peft>=0.2.0 in /workspace/SPAR/interp-ab/.venv/lib/python3.10/site-packages (from lm-eval<0.5.0,>=0.4.3->taker) (0.11.1)\n",
      "Requirement already satisfied: pybind11>=2.6.2 in /workspace/SPAR/interp-ab/.venv/lib/python3.10/site-packages (from lm-eval<0.5.0,>=0.4.3->taker) (2.13.1)\n",
      "Requirement already satisfied: pytablewriter in /workspace/SPAR/interp-ab/.venv/lib/python3.10/site-packages (from lm-eval<0.5.0,>=0.4.3->taker) (1.2.0)\n",
      "Requirement already satisfied: rouge-score>=0.0.4 in /workspace/SPAR/interp-ab/.venv/lib/python3.10/site-packages (from lm-eval<0.5.0,>=0.4.3->taker) (0.1.2)\n",
      "Requirement already satisfied: sacrebleu>=1.5.0 in /workspace/SPAR/interp-ab/.venv/lib/python3.10/site-packages (from lm-eval<0.5.0,>=0.4.3->taker) (2.4.2)\n",
      "Requirement already satisfied: scikit-learn>=0.24.1 in /workspace/SPAR/interp-ab/.venv/lib/python3.10/site-packages (from lm-eval<0.5.0,>=0.4.3->taker) (1.5.1)\n",
      "Requirement already satisfied: sqlitedict in /workspace/SPAR/interp-ab/.venv/lib/python3.10/site-packages (from lm-eval<0.5.0,>=0.4.3->taker) (2.1.0)\n",
      "Requirement already satisfied: tqdm-multiprocess in /workspace/SPAR/interp-ab/.venv/lib/python3.10/site-packages (from lm-eval<0.5.0,>=0.4.3->taker) (0.0.11)\n",
      "Requirement already satisfied: word2number in /workspace/SPAR/interp-ab/.venv/lib/python3.10/site-packages (from lm-eval<0.5.0,>=0.4.3->taker) (1.1)\n",
      "Requirement already satisfied: more-itertools in /workspace/SPAR/interp-ab/.venv/lib/python3.10/site-packages (from lm-eval<0.5.0,>=0.4.3->taker) (10.3.0)\n",
      "Requirement already satisfied: python-dateutil>=2.8.1 in /workspace/SPAR/interp-ab/.venv/lib/python3.10/site-packages (from pandas<2.0.0,>=1.5.3->taker) (2.9.0.post0)\n",
      "Requirement already satisfied: pytz>=2020.1 in /workspace/SPAR/interp-ab/.venv/lib/python3.10/site-packages (from pandas<2.0.0,>=1.5.3->taker) (2024.1)\n",
      "Requirement already satisfied: typing-extensions>=4.8.0 in /workspace/SPAR/interp-ab/.venv/lib/python3.10/site-packages (from torch<3.0.0,>=2.3.1->taker) (4.12.2)\n",
      "Requirement already satisfied: sympy in /workspace/SPAR/interp-ab/.venv/lib/python3.10/site-packages (from torch<3.0.0,>=2.3.1->taker) (1.12.1)\n",
      "Requirement already satisfied: networkx in /workspace/SPAR/interp-ab/.venv/lib/python3.10/site-packages (from torch<3.0.0,>=2.3.1->taker) (3.3)\n",
      "Requirement already satisfied: jinja2 in /workspace/SPAR/interp-ab/.venv/lib/python3.10/site-packages (from torch<3.0.0,>=2.3.1->taker) (3.1.4)\n",
      "Requirement already satisfied: nvidia-cuda-nvrtc-cu12==12.1.105 in /workspace/SPAR/interp-ab/.venv/lib/python3.10/site-packages (from torch<3.0.0,>=2.3.1->taker) (12.1.105)\n",
      "Requirement already satisfied: nvidia-cuda-runtime-cu12==12.1.105 in /workspace/SPAR/interp-ab/.venv/lib/python3.10/site-packages (from torch<3.0.0,>=2.3.1->taker) (12.1.105)\n",
      "Requirement already satisfied: nvidia-cuda-cupti-cu12==12.1.105 in /workspace/SPAR/interp-ab/.venv/lib/python3.10/site-packages (from torch<3.0.0,>=2.3.1->taker) (12.1.105)\n",
      "Requirement already satisfied: nvidia-cudnn-cu12==9.1.0.70 in /workspace/SPAR/interp-ab/.venv/lib/python3.10/site-packages (from torch<3.0.0,>=2.3.1->taker) (9.1.0.70)\n",
      "Requirement already satisfied: nvidia-cublas-cu12==12.1.3.1 in /workspace/SPAR/interp-ab/.venv/lib/python3.10/site-packages (from torch<3.0.0,>=2.3.1->taker) (12.1.3.1)\n",
      "Requirement already satisfied: nvidia-cufft-cu12==11.0.2.54 in /workspace/SPAR/interp-ab/.venv/lib/python3.10/site-packages (from torch<3.0.0,>=2.3.1->taker) (11.0.2.54)\n",
      "Requirement already satisfied: nvidia-curand-cu12==10.3.2.106 in /workspace/SPAR/interp-ab/.venv/lib/python3.10/site-packages (from torch<3.0.0,>=2.3.1->taker) (10.3.2.106)\n",
      "Requirement already satisfied: nvidia-cusolver-cu12==11.4.5.107 in /workspace/SPAR/interp-ab/.venv/lib/python3.10/site-packages (from torch<3.0.0,>=2.3.1->taker) (11.4.5.107)\n",
      "Requirement already satisfied: nvidia-cusparse-cu12==12.1.0.106 in /workspace/SPAR/interp-ab/.venv/lib/python3.10/site-packages (from torch<3.0.0,>=2.3.1->taker) (12.1.0.106)\n",
      "Requirement already satisfied: nvidia-nccl-cu12==2.20.5 in /workspace/SPAR/interp-ab/.venv/lib/python3.10/site-packages (from torch<3.0.0,>=2.3.1->taker) (2.20.5)\n",
      "Requirement already satisfied: nvidia-nvtx-cu12==12.1.105 in /workspace/SPAR/interp-ab/.venv/lib/python3.10/site-packages (from torch<3.0.0,>=2.3.1->taker) (12.1.105)\n",
      "Requirement already satisfied: triton==3.0.0 in /workspace/SPAR/interp-ab/.venv/lib/python3.10/site-packages (from torch<3.0.0,>=2.3.1->taker) (3.0.0)\n",
      "Requirement already satisfied: nvidia-nvjitlink-cu12 in /workspace/SPAR/interp-ab/.venv/lib/python3.10/site-packages (from nvidia-cusolver-cu12==11.4.5.107->torch<3.0.0,>=2.3.1->taker) (12.5.40)\n",
      "Requirement already satisfied: regex!=2019.12.17 in /workspace/SPAR/interp-ab/.venv/lib/python3.10/site-packages (from transformers<5.0.0,>=4.41.0->taker) (2024.5.15)\n",
      "Requirement already satisfied: Click!=8.0.0,>=7.0 in /workspace/SPAR/interp-ab/.venv/lib/python3.10/site-packages (from wandb<0.14.0,>=0.13.9->taker) (8.1.7)\n",
      "Requirement already satisfied: GitPython!=3.1.29,>=1.0.0 in /workspace/SPAR/interp-ab/.venv/lib/python3.10/site-packages (from wandb<0.14.0,>=0.13.9->taker) (3.1.43)\n",
      "Requirement already satisfied: sentry-sdk>=1.0.0 in /workspace/SPAR/interp-ab/.venv/lib/python3.10/site-packages (from wandb<0.14.0,>=0.13.9->taker) (2.7.1)\n",
      "Requirement already satisfied: docker-pycreds>=0.4.0 in /workspace/SPAR/interp-ab/.venv/lib/python3.10/site-packages (from wandb<0.14.0,>=0.13.9->taker) (0.4.0)\n",
      "Requirement already satisfied: pathtools in /workspace/SPAR/interp-ab/.venv/lib/python3.10/site-packages (from wandb<0.14.0,>=0.13.9->taker) (0.1.2)\n",
      "Requirement already satisfied: setproctitle in /workspace/SPAR/interp-ab/.venv/lib/python3.10/site-packages (from wandb<0.14.0,>=0.13.9->taker) (1.3.3)\n",
      "Requirement already satisfied: setuptools in /workspace/SPAR/interp-ab/.venv/lib/python3.10/site-packages (from wandb<0.14.0,>=0.13.9->taker) (70.1.1)\n",
      "Requirement already satisfied: appdirs>=1.4.3 in /workspace/SPAR/interp-ab/.venv/lib/python3.10/site-packages (from wandb<0.14.0,>=0.13.9->taker) (1.4.4)\n",
      "Requirement already satisfied: protobuf!=4.21.0,<5,>=3.19.0 in /workspace/SPAR/interp-ab/.venv/lib/python3.10/site-packages (from wandb<0.14.0,>=0.13.9->taker) (4.25.3)\n",
      "Requirement already satisfied: six>=1.4.0 in /workspace/SPAR/interp-ab/.venv/lib/python3.10/site-packages (from docker-pycreds>=0.4.0->wandb<0.14.0,>=0.13.9->taker) (1.16.0)\n",
      "Requirement already satisfied: aiosignal>=1.1.2 in /workspace/SPAR/interp-ab/.venv/lib/python3.10/site-packages (from aiohttp->datasets<3.0.0,>=2.9.0->taker) (1.3.1)\n",
      "Requirement already satisfied: attrs>=17.3.0 in /workspace/SPAR/interp-ab/.venv/lib/python3.10/site-packages (from aiohttp->datasets<3.0.0,>=2.9.0->taker) (23.2.0)\n",
      "Requirement already satisfied: frozenlist>=1.1.1 in /workspace/SPAR/interp-ab/.venv/lib/python3.10/site-packages (from aiohttp->datasets<3.0.0,>=2.9.0->taker) (1.4.1)\n",
      "Requirement already satisfied: multidict<7.0,>=4.5 in /workspace/SPAR/interp-ab/.venv/lib/python3.10/site-packages (from aiohttp->datasets<3.0.0,>=2.9.0->taker) (6.0.5)\n",
      "Requirement already satisfied: yarl<2.0,>=1.0 in /workspace/SPAR/interp-ab/.venv/lib/python3.10/site-packages (from aiohttp->datasets<3.0.0,>=2.9.0->taker) (1.9.4)\n",
      "Requirement already satisfied: async-timeout<5.0,>=4.0 in /workspace/SPAR/interp-ab/.venv/lib/python3.10/site-packages (from aiohttp->datasets<3.0.0,>=2.9.0->taker) (4.0.3)\n",
      "Requirement already satisfied: gitdb<5,>=4.0.1 in /workspace/SPAR/interp-ab/.venv/lib/python3.10/site-packages (from GitPython!=3.1.29,>=1.0.0->wandb<0.14.0,>=0.13.9->taker) (4.0.11)\n",
      "Requirement already satisfied: charset-normalizer<4,>=2 in /workspace/SPAR/interp-ab/.venv/lib/python3.10/site-packages (from requests>=2.32.2->datasets<3.0.0,>=2.9.0->taker) (3.3.2)\n",
      "Requirement already satisfied: idna<4,>=2.5 in /workspace/SPAR/interp-ab/.venv/lib/python3.10/site-packages (from requests>=2.32.2->datasets<3.0.0,>=2.9.0->taker) (3.7)\n",
      "Requirement already satisfied: urllib3<3,>=1.21.1 in /workspace/SPAR/interp-ab/.venv/lib/python3.10/site-packages (from requests>=2.32.2->datasets<3.0.0,>=2.9.0->taker) (2.2.2)\n",
      "Requirement already satisfied: certifi>=2017.4.17 in /workspace/SPAR/interp-ab/.venv/lib/python3.10/site-packages (from requests>=2.32.2->datasets<3.0.0,>=2.9.0->taker) (2024.6.2)\n",
      "Requirement already satisfied: absl-py in /workspace/SPAR/interp-ab/.venv/lib/python3.10/site-packages (from rouge-score>=0.0.4->lm-eval<0.5.0,>=0.4.3->taker) (2.1.0)\n",
      "Requirement already satisfied: nltk in /workspace/SPAR/interp-ab/.venv/lib/python3.10/site-packages (from rouge-score>=0.0.4->lm-eval<0.5.0,>=0.4.3->taker) (3.8.1)\n",
      "Requirement already satisfied: portalocker in /workspace/SPAR/interp-ab/.venv/lib/python3.10/site-packages (from sacrebleu>=1.5.0->lm-eval<0.5.0,>=0.4.3->taker) (2.10.1)\n",
      "Requirement already satisfied: tabulate>=0.8.9 in /workspace/SPAR/interp-ab/.venv/lib/python3.10/site-packages (from sacrebleu>=1.5.0->lm-eval<0.5.0,>=0.4.3->taker) (0.9.0)\n",
      "Requirement already satisfied: colorama in /workspace/SPAR/interp-ab/.venv/lib/python3.10/site-packages (from sacrebleu>=1.5.0->lm-eval<0.5.0,>=0.4.3->taker) (0.4.6)\n",
      "Requirement already satisfied: lxml in /workspace/SPAR/interp-ab/.venv/lib/python3.10/site-packages (from sacrebleu>=1.5.0->lm-eval<0.5.0,>=0.4.3->taker) (5.2.2)\n",
      "Requirement already satisfied: joblib>=1.2.0 in /workspace/SPAR/interp-ab/.venv/lib/python3.10/site-packages (from scikit-learn>=0.24.1->lm-eval<0.5.0,>=0.4.3->taker) (1.4.2)\n",
      "Requirement already satisfied: threadpoolctl>=3.1.0 in /workspace/SPAR/interp-ab/.venv/lib/python3.10/site-packages (from scikit-learn>=0.24.1->lm-eval<0.5.0,>=0.4.3->taker) (3.5.0)\n",
      "Requirement already satisfied: MarkupSafe>=2.0 in /workspace/SPAR/interp-ab/.venv/lib/python3.10/site-packages (from jinja2->torch<3.0.0,>=2.3.1->taker) (2.1.5)\n",
      "Requirement already satisfied: DataProperty<2,>=1.0.1 in /workspace/SPAR/interp-ab/.venv/lib/python3.10/site-packages (from pytablewriter->lm-eval<0.5.0,>=0.4.3->taker) (1.0.1)\n",
      "Requirement already satisfied: mbstrdecoder<2,>=1.0.0 in /workspace/SPAR/interp-ab/.venv/lib/python3.10/site-packages (from pytablewriter->lm-eval<0.5.0,>=0.4.3->taker) (1.1.3)\n",
      "Requirement already satisfied: pathvalidate<4,>=2.3.0 in /workspace/SPAR/interp-ab/.venv/lib/python3.10/site-packages (from pytablewriter->lm-eval<0.5.0,>=0.4.3->taker) (3.2.0)\n",
      "Requirement already satisfied: tabledata<2,>=1.3.1 in /workspace/SPAR/interp-ab/.venv/lib/python3.10/site-packages (from pytablewriter->lm-eval<0.5.0,>=0.4.3->taker) (1.3.3)\n",
      "Requirement already satisfied: tcolorpy<1,>=0.0.5 in /workspace/SPAR/interp-ab/.venv/lib/python3.10/site-packages (from pytablewriter->lm-eval<0.5.0,>=0.4.3->taker) (0.1.6)\n",
      "Requirement already satisfied: typepy<2,>=1.3.2 in /workspace/SPAR/interp-ab/.venv/lib/python3.10/site-packages (from typepy[datetime]<2,>=1.3.2->pytablewriter->lm-eval<0.5.0,>=0.4.3->taker) (1.3.2)\n",
      "Requirement already satisfied: mpmath<1.4.0,>=1.1.0 in /workspace/SPAR/interp-ab/.venv/lib/python3.10/site-packages (from sympy->torch<3.0.0,>=2.3.1->taker) (1.3.0)\n",
      "Requirement already satisfied: smmap<6,>=3.0.1 in /workspace/SPAR/interp-ab/.venv/lib/python3.10/site-packages (from gitdb<5,>=4.0.1->GitPython!=3.1.29,>=1.0.0->wandb<0.14.0,>=0.13.9->taker) (5.0.1)\n",
      "Requirement already satisfied: chardet<6,>=3.0.4 in /workspace/SPAR/interp-ab/.venv/lib/python3.10/site-packages (from mbstrdecoder<2,>=1.0.0->pytablewriter->lm-eval<0.5.0,>=0.4.3->taker) (5.2.0)\n",
      "Note: you may need to restart the kernel to use updated packages.\n"
     ]
    }
   ],
   "source": [
    "%pip install taker"
   ]
  },
  {
   "cell_type": "code",
   "execution_count": 2,
   "metadata": {},
   "outputs": [
    {
     "name": "stderr",
     "output_type": "stream",
     "text": [
      "/workspace/SPAR/interp-ab/.venv/lib/python3.10/site-packages/tqdm/auto.py:21: TqdmWarning: IProgress not found. Please update jupyter and ipywidgets. See https://ipywidgets.readthedocs.io/en/stable/user_install.html\n",
      "  from .autonotebook import tqdm as notebook_tqdm\n"
     ]
    }
   ],
   "source": [
    "import circuitsvis as cv\n",
    "import numpy as np\n",
    "import torch\n",
    "from taker import Model\n",
    "from taker.hooks import HookConfig\n",
    "from datetime import datetime\n",
    "import json\n",
    "from os import listdir\n",
    "from os.path import exists\n",
    "\n",
    "import numpy as np\n",
    "import pandas as pd\n",
    "from sentence_transformers import SentenceTransformer\n",
    "from sklearn.decomposition import PCA\n",
    "import torch"
   ]
  },
  {
   "cell_type": "code",
   "execution_count": 3,
   "metadata": {},
   "outputs": [],
   "source": [
    "current_time = datetime.now().strftime(\"%Y-%m-%d_%H-%M-%S\")\n",
    "filename = f\"../results/{current_time}_agnes_story.jsonl\""
   ]
  },
  {
   "cell_type": "code",
   "execution_count": 4,
   "metadata": {},
   "outputs": [
    {
     "name": "stderr",
     "output_type": "stream",
     "text": [
      "Special tokens have been added in the vocabulary, make sure the associated word embeddings are fine-tuned or trained.\n",
      "Loading checkpoint shards: 100%|██████████| 2/2 [00:03<00:00,  1.81s/it]\n"
     ]
    },
    {
     "name": "stdout",
     "output_type": "stream",
     "text": [
      "Loaded model 'microsoft/phi-3-mini-4k-instruct' with int8:\n",
      "- Added 512 hooks across 32 layers\n"
     ]
    },
    {
     "name": "stderr",
     "output_type": "stream",
     "text": [
      "We detected that you are passing `past_key_values` as a tuple and this is deprecated and will be removed in v4.43. Please use an appropriate `Cache` class (https://huggingface.co/docs/transformers/v4.41.3/en/internal/generation_utils#transformers.Cache)\n",
      "You are not running the flash-attention implementation, expect numerical differences.\n"
     ]
    },
    {
     "name": "stdout",
     "output_type": "stream",
     "text": [
      " - n_layers : 32\n",
      " - d_model  : 3072\n",
      " - n_heads  : 32\n",
      " - d_head   : 96\n",
      " - d_mlp    : 8192\n"
     ]
    }
   ],
   "source": [
    "m = Model(\"microsoft/phi-3-mini-4k-instruct\", dtype=\"int8\")\n",
    "m.show_details()"
   ]
  },
  {
   "cell_type": "code",
   "execution_count": 5,
   "metadata": {},
   "outputs": [],
   "source": [
    "prompt    = \"\"\"Write a short blog post about a recipe and the inspiration behind it.\n",
    " Do not include a title.\n",
    " Only reveal the dish after the story.\n",
    " Start with short story and then move to the recipe.\n",
    " To re-iterate, do not include a title.\"\"\"\n",
    "# info_gen = m.generate(info_prompt, temperature=0.3, num=300)\n",
    "\n",
    "#DOUBLE NEWLINE\n",
    "info_gen = \"\"\"\n",
    "\\n Once upon a time, in a quaint little village nestled between rolling hills and verdant fields, there lived an elderly woman named Agnes. Agnes was known for her warm smile and her legendary Sunday dinners that brought the entire neighborhood together. Her recipes were family heirlooms, passed down through generations, with each family adding their own touch to the final dish.\n",
    "\n",
    "One crisp autumn evening, Agnes was reminiscing about her childhood, and how her grandmother used to gather everyone around the dinner table, sharing stories and laughter. These were the moments that shaped her, the memories that she passed on to her own children and grandchildren.\n",
    "\n",
    "Inspired by her grandmother's legacy, Agnes decided to create a new dish that would encapsulate the essence of those cherished gatherings. She wanted something that was comforting and nourishing, a dish that could be prepared with love and shared with others. After days of experimentation, she finally created a recipe that she believed truly captured the spirit of her family's Sunday dinners.\\n\\n\"\"\"\n",
    "info_prompt = prompt+info_gen"
   ]
  },
  {
   "cell_type": "code",
   "execution_count": 6,
   "metadata": {},
   "outputs": [],
   "source": [
    "import sys, os\n",
    "class HiddenPrints:\n",
    "    def __enter__(self):\n",
    "        self._original_stdout = sys.stdout\n",
    "        sys.stdout = open(os.devnull, 'w')\n",
    "\n",
    "    def __exit__(self, exc_type, exc_val, exc_tb):\n",
    "        sys.stdout.close()\n",
    "        sys.stdout = self._original_stdout"
   ]
  },
  {
   "cell_type": "code",
   "execution_count": 11,
   "metadata": {},
   "outputs": [
    {
     "name": "stdout",
     "output_type": "stream",
     "text": [
      "Got 304, already saw 0, checking 3 out of max 3\n",
      "Got 304, already saw 0, checking 3 out of max 3\n",
      "Got 304, already saw 0, checking 3 out of max 3\n",
      "Got 304, already saw 0, checking 3 out of max 3\n",
      "Got 304, already saw 0, checking 3 out of max 3\n",
      "Got 304, already saw 0, checking 3 out of max 3\n",
      "Got 304, already saw 0, checking 3 out of max 3\n",
      "Got 304, already saw 0, checking 3 out of max 3\n",
      "Got 304, already saw 0, checking 3 out of max 3\n",
      "Got 304, already saw 0, checking 3 out of max 3\n",
      "Got 304, already saw 0, checking 3 out of max 3\n",
      "Got 304, already saw 0, checking 3 out of max 3\n",
      "Got 304, already saw 0, checking 3 out of max 3\n",
      "Got 304, already saw 0, checking 3 out of max 3\n",
      "Got 304, already saw 0, checking 3 out of max 3\n",
      "Got 304, already saw 0, checking 3 out of max 3\n",
      "Got 304, already saw 0, checking 3 out of max 3\n",
      "Got 304, already saw 0, checking 3 out of max 3\n",
      "Got 304, already saw 0, checking 3 out of max 3\n",
      "Got 304, already saw 0, checking 3 out of max 3\n",
      "Got 304, already saw 0, checking 3 out of max 3\n",
      "Got 304, already saw 0, checking 3 out of max 3\n",
      "Got 304, already saw 0, checking 3 out of max 3\n",
      "Got 304, already saw 0, checking 3 out of max 3\n",
      "Got 304, already saw 0, checking 3 out of max 3\n",
      "Got 304, already saw 0, checking 3 out of max 3\n",
      "Got 304, already saw 0, checking 3 out of max 3\n",
      "Got 304, already saw 0, checking 3 out of max 3\n",
      "Got 304, already saw 0, checking 3 out of max 3\n",
      "Got 304, already saw 0, checking 3 out of max 3\n",
      "Got 304, already saw 0, checking 3 out of max 3\n",
      "Got 304, already saw 0, checking 3 out of max 3\n",
      "Got 304, already saw 0, checking 3 out of max 3\n",
      "Got 304, already saw 0, checking 3 out of max 3\n",
      "Got 304, already saw 0, checking 3 out of max 3\n",
      "Got 304, already saw 0, checking 3 out of max 3\n",
      "Got 304, already saw 0, checking 3 out of max 3\n",
      "Got 304, already saw 0, checking 3 out of max 3\n",
      "Got 304, already saw 0, checking 3 out of max 3\n",
      "Got 304, already saw 0, checking 3 out of max 3\n",
      "Got 304, already saw 0, checking 3 out of max 3\n",
      "Got 304, already saw 0, checking 3 out of max 3\n",
      "Got 304, already saw 0, checking 3 out of max 3\n",
      "Got 304, already saw 0, checking 3 out of max 3\n",
      "Got 304, already saw 0, checking 3 out of max 3\n",
      "Got 304, already saw 0, checking 3 out of max 3\n",
      "Got 304, already saw 0, checking 3 out of max 3\n",
      "Got 304, already saw 0, checking 3 out of max 3\n",
      "Got 304, already saw 0, checking 3 out of max 3\n",
      "Got 304, already saw 0, checking 3 out of max 3\n",
      "Got 304, already saw 0, checking 3 out of max 3\n",
      "Got 304, already saw 0, checking 3 out of max 3\n",
      "Got 304, already saw 0, checking 3 out of max 3\n",
      "Got 304, already saw 0, checking 3 out of max 3\n",
      "Got 304, already saw 0, checking 3 out of max 3\n",
      "Got 304, already saw 0, checking 3 out of max 3\n",
      "Got 304, already saw 0, checking 3 out of max 3\n",
      "Got 304, already saw 0, checking 3 out of max 3\n",
      "Got 304, already saw 0, checking 3 out of max 3\n",
      "Got 304, already saw 0, checking 3 out of max 3\n",
      "Got 304, already saw 0, checking 3 out of max 3\n",
      "Got 304, already saw 0, checking 3 out of max 3\n",
      "Got 304, already saw 0, checking 3 out of max 3\n",
      "Got 304, already saw 0, checking 3 out of max 3\n"
     ]
    }
   ],
   "source": [
    "if not exists(filename):\n",
    "    with open(filename, \"w\") as f:\n",
    "        pass\n",
    "\n",
    "neutral_prompt = \"Sunday dinner.\\n\\n\"\n",
    "max_new_tokens = 100\n",
    "temperature = 0.3\n",
    "tokens_transferred_num = 5\n",
    "\n",
    "acts = m.get_midlayer_activations(info_prompt)\n",
    "orig_token_index = m.get_ids(info_prompt).shape[1] - 1\n",
    "new_token_index  = m.get_ids(neutral_prompt).shape[1] - 1        \n",
    "\n",
    "\n",
    "\n",
    "for token_val in range(tokens_transferred_num):\n",
    "    [h.reset() for h in m.hooks.neuron_replace.values()] #RESET HOOKS BEFORE TRANSPLANTING NEXT SET OF ACTIVATIONS\n",
    "    for j in range(token_val + 1):\n",
    "        for layer_index in range(0,32):\n",
    "            m.hooks.neuron_replace[f\"layer_{layer_index}_mlp_pre_out\"].add_token(new_token_index - j, acts[\"mlp\"][0, layer_index, orig_token_index - j])\n",
    "            m.hooks.neuron_replace[f\"layer_{layer_index}_attn_pre_out\"].add_token(new_token_index - j, acts[\"attn\"][0, layer_index, orig_token_index - j])\n",
    "    with HiddenPrints():\n",
    "        for i in range(20):\n",
    "            output = m.generate(neutral_prompt, max_new_tokens, temperature=temperature)\n",
    "            \n",
    "            data = {\n",
    "                \"temperature\": temperature,\n",
    "                \"max_new_tokens\": max_new_tokens,\n",
    "                \"model\": \"microsoft/phi-3-mini-4k-instruct\",\n",
    "                \"transplant_layers\": (0,32),\n",
    "                \"transferred_token_num\": token_val+1,\n",
    "                \"orig_prompt\": info_prompt,\n",
    "                \"transplant_prompt\": neutral_prompt,\n",
    "                \"output\": output[1],\n",
    "            }\n",
    "\n",
    "            with open(filename, \"a\") as file:\n",
    "                file.write(json.dumps(data) + \"\\n\")"
   ]
  },
  {
   "cell_type": "code",
   "execution_count": 6,
   "metadata": {},
   "outputs": [
    {
     "data": {
      "text/html": [
       "<div>\n",
       "<style scoped>\n",
       "    .dataframe tbody tr th:only-of-type {\n",
       "        vertical-align: middle;\n",
       "    }\n",
       "\n",
       "    .dataframe tbody tr th {\n",
       "        vertical-align: top;\n",
       "    }\n",
       "\n",
       "    .dataframe thead th {\n",
       "        text-align: right;\n",
       "    }\n",
       "</style>\n",
       "<table border=\"1\" class=\"dataframe\">\n",
       "  <thead>\n",
       "    <tr style=\"text-align: right;\">\n",
       "      <th></th>\n",
       "      <th>temperature</th>\n",
       "      <th>max_new_tokens</th>\n",
       "      <th>model</th>\n",
       "      <th>transplant_layers</th>\n",
       "      <th>newline_num</th>\n",
       "      <th>orig_prompt</th>\n",
       "      <th>transplant_prompt</th>\n",
       "      <th>output</th>\n",
       "    </tr>\n",
       "  </thead>\n",
       "  <tbody>\n",
       "    <tr>\n",
       "      <th>0</th>\n",
       "      <td>0.3</td>\n",
       "      <td>100</td>\n",
       "      <td>phi-3-mini-4k-instruct</td>\n",
       "      <td>[0, 32]</td>\n",
       "      <td>2</td>\n",
       "      <td>Write a short blog post about a recipe and the...</td>\n",
       "      <td>\\n</td>\n",
       "      <td>**The Art of Crafting a Compelling Narrative**...</td>\n",
       "    </tr>\n",
       "    <tr>\n",
       "      <th>1</th>\n",
       "      <td>0.3</td>\n",
       "      <td>100</td>\n",
       "      <td>phi-3-mini-4k-instruct</td>\n",
       "      <td>[0, 32]</td>\n",
       "      <td>2</td>\n",
       "      <td>Write a short blog post about a recipe and the...</td>\n",
       "      <td>\\n</td>\n",
       "      <td>Now, let's dive into the world of Mathematics,...</td>\n",
       "    </tr>\n",
       "    <tr>\n",
       "      <th>2</th>\n",
       "      <td>0.3</td>\n",
       "      <td>100</td>\n",
       "      <td>phi-3-mini-4k-instruct</td>\n",
       "      <td>[0, 32]</td>\n",
       "      <td>2</td>\n",
       "      <td>Write a short blog post about a recipe and the...</td>\n",
       "      <td>\\n</td>\n",
       "      <td>The key to this recipe is the balance of flavo...</td>\n",
       "    </tr>\n",
       "    <tr>\n",
       "      <th>3</th>\n",
       "      <td>0.3</td>\n",
       "      <td>100</td>\n",
       "      <td>phi-3-mini-4k-instruct</td>\n",
       "      <td>[0, 32]</td>\n",
       "      <td>2</td>\n",
       "      <td>Write a short blog post about a recipe and the...</td>\n",
       "      <td>\\n</td>\n",
       "      <td>**Ingredients:**\\n\\n* 1 large egg\\n* 3/4 cup (...</td>\n",
       "    </tr>\n",
       "    <tr>\n",
       "      <th>4</th>\n",
       "      <td>0.3</td>\n",
       "      <td>100</td>\n",
       "      <td>phi-3-mini-4k-instruct</td>\n",
       "      <td>[0, 32]</td>\n",
       "      <td>2</td>\n",
       "      <td>Write a short blog post about a recipe and the...</td>\n",
       "      <td>\\n</td>\n",
       "      <td>This story, while fictional, draws inspiration...</td>\n",
       "    </tr>\n",
       "  </tbody>\n",
       "</table>\n",
       "</div>"
      ],
      "text/plain": [
       "   temperature  max_new_tokens                   model transplant_layers  \\\n",
       "0          0.3             100  phi-3-mini-4k-instruct           [0, 32]   \n",
       "1          0.3             100  phi-3-mini-4k-instruct           [0, 32]   \n",
       "2          0.3             100  phi-3-mini-4k-instruct           [0, 32]   \n",
       "3          0.3             100  phi-3-mini-4k-instruct           [0, 32]   \n",
       "4          0.3             100  phi-3-mini-4k-instruct           [0, 32]   \n",
       "\n",
       "   newline_num                                        orig_prompt  \\\n",
       "0            2  Write a short blog post about a recipe and the...   \n",
       "1            2  Write a short blog post about a recipe and the...   \n",
       "2            2  Write a short blog post about a recipe and the...   \n",
       "3            2  Write a short blog post about a recipe and the...   \n",
       "4            2  Write a short blog post about a recipe and the...   \n",
       "\n",
       "  transplant_prompt                                             output  \n",
       "0                \\n  **The Art of Crafting a Compelling Narrative**...  \n",
       "1                \\n  Now, let's dive into the world of Mathematics,...  \n",
       "2                \\n  The key to this recipe is the balance of flavo...  \n",
       "3                \\n  **Ingredients:**\\n\\n* 1 large egg\\n* 3/4 cup (...  \n",
       "4                \\n  This story, while fictional, draws inspiration...  "
      ]
     },
     "execution_count": 6,
     "metadata": {},
     "output_type": "execute_result"
    }
   ],
   "source": [
    "filepath = \"../results/2024-08-07_20-30-51_agnes_story.jsonl\"\n",
    "results_df = pd.read_json(filepath, lines=True)\n",
    "baselinefile = \"../results/baseline_data_08-07.jsonl\"\n",
    "base_df = pd.read_json(baselinefile, lines=True)\n",
    "results_df.head()"
   ]
  },
  {
   "cell_type": "code",
   "execution_count": 9,
   "metadata": {},
   "outputs": [
    {
     "name": "stdout",
     "output_type": "stream",
     "text": [
      "(170, 768)\n",
      "(120, 9)\n",
      "(50, 6)\n"
     ]
    }
   ],
   "source": [
    "# sentenceTransformer = SentenceTransformer(\"all-MiniLM-L6-v2\")\n",
    "sentenceTransformer = SentenceTransformer(\"all-mpnet-base-v2\")\n",
    "\n",
    "concat_embs = results_df[\"output\"].to_list() + base_df[\"output\"].to_list()\n",
    "embeddings = sentenceTransformer.encode(concat_embs)\n",
    "print(embeddings.shape)\n",
    "results_df[\"embeddings\"] = embeddings[:results_df.shape[0]].tolist()\n",
    "base_df[\"embeddings\"] = embeddings[results_df.shape[0]:].tolist()\n",
    "results_df.head()\n",
    "print(results_df.shape)\n",
    "print(base_df.shape)"
   ]
  },
  {
   "cell_type": "code",
   "execution_count": 15,
   "metadata": {},
   "outputs": [
    {
     "name": "stdout",
     "output_type": "stream",
     "text": [
      "(170, 2)\n"
     ]
    },
    {
     "data": {
      "application/vnd.plotly.v1+json": {
       "config": {
        "plotlyServerURL": "https://plot.ly"
       },
       "data": [
        {
         "customdata": [
          [
           "phi-3-mini-4k-instruct",
           2
          ],
          [
           "phi-3-mini-4k-instruct",
           2
          ],
          [
           "phi-3-mini-4k-instruct",
           2
          ],
          [
           "phi-3-mini-4k-instruct",
           2
          ],
          [
           "phi-3-mini-4k-instruct",
           2
          ],
          [
           "phi-3-mini-4k-instruct",
           2
          ],
          [
           "phi-3-mini-4k-instruct",
           2
          ],
          [
           "phi-3-mini-4k-instruct",
           2
          ],
          [
           "phi-3-mini-4k-instruct",
           2
          ],
          [
           "phi-3-mini-4k-instruct",
           2
          ],
          [
           "phi-3-mini-4k-instruct",
           2
          ],
          [
           "phi-3-mini-4k-instruct",
           2
          ],
          [
           "phi-3-mini-4k-instruct",
           2
          ],
          [
           "phi-3-mini-4k-instruct",
           2
          ],
          [
           "phi-3-mini-4k-instruct",
           2
          ],
          [
           "phi-3-mini-4k-instruct",
           2
          ],
          [
           "phi-3-mini-4k-instruct",
           2
          ],
          [
           "phi-3-mini-4k-instruct",
           2
          ],
          [
           "phi-3-mini-4k-instruct",
           2
          ],
          [
           "phi-3-mini-4k-instruct",
           2
          ],
          [
           "phi-3-mini-4k-instruct",
           2
          ],
          [
           "phi-3-mini-4k-instruct",
           2
          ],
          [
           "phi-3-mini-4k-instruct",
           2
          ],
          [
           "phi-3-mini-4k-instruct",
           2
          ],
          [
           "phi-3-mini-4k-instruct",
           2
          ],
          [
           "phi-3-mini-4k-instruct",
           2
          ],
          [
           "phi-3-mini-4k-instruct",
           2
          ],
          [
           "phi-3-mini-4k-instruct",
           2
          ],
          [
           "phi-3-mini-4k-instruct",
           2
          ],
          [
           "phi-3-mini-4k-instruct",
           2
          ]
         ],
         "hovertemplate": "Model: %{customdata[0]}<br>Newline Count: %{customdata[1]}",
         "legendgroup": "phi-3-mini-4k-instruct, 2",
         "marker": {
          "color": "#636efa",
          "symbol": "circle"
         },
         "mode": "markers",
         "name": "phi-3-mini-4k-instruct, 2",
         "orientation": "v",
         "showlegend": true,
         "type": "scatter",
         "x": [
          0.23676304519176483,
          0.35992562770843506,
          -0.06529960036277771,
          -0.15774929523468018,
          0.19958049058914185,
          -0.04257366806268692,
          -0.13084302842617035,
          -0.14679117500782013,
          -0.21656568348407745,
          0.21031254529953003,
          -0.18894639611244202,
          -0.3330339193344116,
          0.28649353981018066,
          0.0877465233206749,
          -0.2656974494457245,
          -0.18599894642829895,
          0.2943076193332672,
          -0.24409569799900055,
          -0.0973147600889206,
          -0.05253584682941437,
          -0.30155810713768005,
          -0.22574254870414734,
          0.27660080790519714,
          -0.029995311051607132,
          -0.3234488368034363,
          0.24299383163452148,
          -0.23320530354976654,
          0.30231809616088867,
          -0.1173655316233635,
          0.23689746856689453
         ],
         "xaxis": "x",
         "y": [
          0.04100019484758377,
          -0.11594889312982559,
          -0.11434715241193771,
          -0.3036074936389923,
          0.13062186539173126,
          -0.44003772735595703,
          -0.3244015872478485,
          0.03992604836821556,
          -0.26200664043426514,
          -0.1363256424665451,
          -0.322434663772583,
          0.14065168797969818,
          0.037550728768110275,
          -0.3790043890476227,
          0.09337463974952698,
          0.012322931550443172,
          0.023335328325629234,
          0.016573466360569,
          -0.3490504026412964,
          -0.44605696201324463,
          0.16544325649738312,
          -0.24348309636116028,
          0.27727416157722473,
          -0.45996832847595215,
          0.04709772393107414,
          -0.06410092860460281,
          0.12838062644004822,
          -0.13667869567871094,
          -0.3520470857620239,
          -0.11525552719831467
         ],
         "yaxis": "y"
        },
        {
         "customdata": [
          [
           "phi-3-mini-4k-instruct",
           1
          ],
          [
           "phi-3-mini-4k-instruct",
           1
          ],
          [
           "phi-3-mini-4k-instruct",
           1
          ],
          [
           "phi-3-mini-4k-instruct",
           1
          ],
          [
           "phi-3-mini-4k-instruct",
           1
          ],
          [
           "phi-3-mini-4k-instruct",
           1
          ],
          [
           "phi-3-mini-4k-instruct",
           1
          ],
          [
           "phi-3-mini-4k-instruct",
           1
          ],
          [
           "phi-3-mini-4k-instruct",
           1
          ],
          [
           "phi-3-mini-4k-instruct",
           1
          ],
          [
           "phi-3-mini-4k-instruct",
           1
          ],
          [
           "phi-3-mini-4k-instruct",
           1
          ],
          [
           "phi-3-mini-4k-instruct",
           1
          ],
          [
           "phi-3-mini-4k-instruct",
           1
          ],
          [
           "phi-3-mini-4k-instruct",
           1
          ],
          [
           "phi-3-mini-4k-instruct",
           1
          ],
          [
           "phi-3-mini-4k-instruct",
           1
          ],
          [
           "phi-3-mini-4k-instruct",
           1
          ],
          [
           "phi-3-mini-4k-instruct",
           1
          ],
          [
           "phi-3-mini-4k-instruct",
           1
          ],
          [
           "phi-3-mini-4k-instruct",
           1
          ],
          [
           "phi-3-mini-4k-instruct",
           1
          ],
          [
           "phi-3-mini-4k-instruct",
           1
          ],
          [
           "phi-3-mini-4k-instruct",
           1
          ],
          [
           "phi-3-mini-4k-instruct",
           1
          ],
          [
           "phi-3-mini-4k-instruct",
           1
          ],
          [
           "phi-3-mini-4k-instruct",
           1
          ],
          [
           "phi-3-mini-4k-instruct",
           1
          ],
          [
           "phi-3-mini-4k-instruct",
           1
          ],
          [
           "phi-3-mini-4k-instruct",
           1
          ]
         ],
         "hovertemplate": "Model: %{customdata[0]}<br>Newline Count: %{customdata[1]}",
         "legendgroup": "phi-3-mini-4k-instruct, 1",
         "marker": {
          "color": "#636efa",
          "symbol": "square"
         },
         "mode": "markers",
         "name": "phi-3-mini-4k-instruct, 1",
         "orientation": "v",
         "showlegend": true,
         "type": "scatter",
         "x": [
          0.22981329262256622,
          0.36648157238960266,
          0.14885807037353516,
          0.2035631239414215,
          0.22385725378990173,
          0.25041207671165466,
          0.22248432040214539,
          0.2607332468032837,
          0.3262051045894623,
          0.26865366101264954,
          0.24745893478393555,
          0.2980741560459137,
          0.3078542947769165,
          0.32543468475341797,
          0.31103619933128357,
          0.270866721868515,
          0.17885258793830872,
          0.21754351258277893,
          0.3094829022884369,
          0.17914748191833496,
          0.32620519399642944,
          0.28117531538009644,
          0.27275484800338745,
          0.30164626240730286,
          0.31626445055007935,
          0.2397981733083725,
          0.3000223934650421,
          0.3340688943862915,
          0.2654474973678589,
          0.3329819142818451
         ],
         "xaxis": "x",
         "y": [
          -0.36794695258140564,
          -0.0873560979962349,
          -0.4393746554851532,
          -0.19284261763095856,
          -0.42102840542793274,
          -0.32938891649246216,
          -0.48153960704803467,
          -0.4274252951145172,
          -0.5503853559494019,
          -0.08641611039638519,
          -0.024766914546489716,
          -0.3124549984931946,
          0.018847083672881126,
          -0.5218852162361145,
          -0.0445767380297184,
          -0.3323485255241394,
          -0.148250550031662,
          -0.3973803222179413,
          -0.5948560237884521,
          -0.09251543879508972,
          -0.5503853559494019,
          -0.5463223457336426,
          -0.3944455683231354,
          -0.3068024516105652,
          0.02378581091761589,
          -0.38223347067832947,
          -0.06613872200250626,
          -0.5645310878753662,
          -0.3962952196598053,
          0.029851971194148064
         ],
         "yaxis": "y"
        },
        {
         "customdata": [
          [
           "gpt2-large",
           2
          ],
          [
           "gpt2-large",
           2
          ],
          [
           "gpt2-large",
           2
          ],
          [
           "gpt2-large",
           2
          ],
          [
           "gpt2-large",
           2
          ],
          [
           "gpt2-large",
           2
          ],
          [
           "gpt2-large",
           2
          ],
          [
           "gpt2-large",
           2
          ],
          [
           "gpt2-large",
           2
          ],
          [
           "gpt2-large",
           2
          ],
          [
           "gpt2-large",
           2
          ],
          [
           "gpt2-large",
           2
          ],
          [
           "gpt2-large",
           2
          ],
          [
           "gpt2-large",
           2
          ],
          [
           "gpt2-large",
           2
          ],
          [
           "gpt2-large",
           2
          ],
          [
           "gpt2-large",
           2
          ],
          [
           "gpt2-large",
           2
          ],
          [
           "gpt2-large",
           2
          ],
          [
           "gpt2-large",
           2
          ],
          [
           "gpt2-large",
           2
          ],
          [
           "gpt2-large",
           2
          ],
          [
           "gpt2-large",
           2
          ],
          [
           "gpt2-large",
           2
          ],
          [
           "gpt2-large",
           2
          ],
          [
           "gpt2-large",
           2
          ],
          [
           "gpt2-large",
           2
          ],
          [
           "gpt2-large",
           2
          ],
          [
           "gpt2-large",
           2
          ],
          [
           "gpt2-large",
           2
          ]
         ],
         "hovertemplate": "Model: %{customdata[0]}<br>Newline Count: %{customdata[1]}",
         "legendgroup": "gpt2-large, 2",
         "marker": {
          "color": "#EF553B",
          "symbol": "circle"
         },
         "mode": "markers",
         "name": "gpt2-large, 2",
         "orientation": "v",
         "showlegend": true,
         "type": "scatter",
         "x": [
          0.12525300681591034,
          0.2615208625793457,
          0.306978315114975,
          0.231253981590271,
          0.38656049966812134,
          0.29668673872947693,
          0.37570878863334656,
          0.34926706552505493,
          0.2482101321220398,
          0.345468670129776,
          0.27466729283332825,
          0.1614997535943985,
          0.43282392621040344,
          0.41846412420272827,
          0.3038685917854309,
          0.4097706377506256,
          0.40895864367485046,
          0.3492565155029297,
          0.2233089953660965,
          0.42026302218437195,
          0.39891037344932556,
          0.38479456305503845,
          0.3205730617046356,
          0.2929954528808594,
          0.25931140780448914,
          0.25627678632736206,
          0.4428686499595642,
          0.339418888092041,
          0.32883259654045105,
          0.2620012164115906
         ],
         "xaxis": "x",
         "y": [
          -0.08196955174207687,
          -0.09207691997289658,
          0.24585825204849243,
          0.22479897737503052,
          0.24710603058338165,
          0.09705492109060287,
          0.3350244462490082,
          0.4243661165237427,
          0.012503155507147312,
          0.37589502334594727,
          -0.10947418212890625,
          0.16122394800186157,
          0.21266242861747742,
          0.3475131094455719,
          0.28936871886253357,
          0.11151857674121857,
          0.4578540623188019,
          0.24260921776294708,
          0.18811306357383728,
          0.2323748618364334,
          0.17327669262886047,
          0.34670671820640564,
          0.2321169376373291,
          -0.11069677770137787,
          0.29137328267097473,
          0.312796413898468,
          0.1682540625333786,
          0.13599587976932526,
          0.14894206821918488,
          -0.08839572221040726
         ],
         "yaxis": "y"
        },
        {
         "customdata": [
          [
           "gpt2-large",
           1
          ],
          [
           "gpt2-large",
           1
          ],
          [
           "gpt2-large",
           1
          ],
          [
           "gpt2-large",
           1
          ],
          [
           "gpt2-large",
           1
          ],
          [
           "gpt2-large",
           1
          ],
          [
           "gpt2-large",
           1
          ],
          [
           "gpt2-large",
           1
          ],
          [
           "gpt2-large",
           1
          ],
          [
           "gpt2-large",
           1
          ],
          [
           "gpt2-large",
           1
          ],
          [
           "gpt2-large",
           1
          ],
          [
           "gpt2-large",
           1
          ],
          [
           "gpt2-large",
           1
          ],
          [
           "gpt2-large",
           1
          ],
          [
           "gpt2-large",
           1
          ],
          [
           "gpt2-large",
           1
          ],
          [
           "gpt2-large",
           1
          ],
          [
           "gpt2-large",
           1
          ],
          [
           "gpt2-large",
           1
          ],
          [
           "gpt2-large",
           1
          ],
          [
           "gpt2-large",
           1
          ],
          [
           "gpt2-large",
           1
          ],
          [
           "gpt2-large",
           1
          ],
          [
           "gpt2-large",
           1
          ],
          [
           "gpt2-large",
           1
          ],
          [
           "gpt2-large",
           1
          ],
          [
           "gpt2-large",
           1
          ],
          [
           "gpt2-large",
           1
          ],
          [
           "gpt2-large",
           1
          ]
         ],
         "hovertemplate": "Model: %{customdata[0]}<br>Newline Count: %{customdata[1]}",
         "legendgroup": "gpt2-large, 1",
         "marker": {
          "color": "#EF553B",
          "symbol": "square"
         },
         "mode": "markers",
         "name": "gpt2-large, 1",
         "orientation": "v",
         "showlegend": true,
         "type": "scatter",
         "x": [
          0.11340580135583878,
          0.2845248579978943,
          0.24224810302257538,
          0.39801254868507385,
          0.28144437074661255,
          0.2836844325065613,
          0.4311489164829254,
          0.31379052996635437,
          0.3350498378276825,
          0.3567129969596863,
          0.4329533278942108,
          0.3541433811187744,
          0.3970518112182617,
          0.301598459482193,
          0.43433502316474915,
          0.36686283349990845,
          0.38220706582069397,
          0.3791806697845459,
          0.31061798334121704,
          0.4063306152820587,
          0.39679110050201416,
          0.40019652247428894,
          0.36731576919555664,
          0.34932804107666016,
          0.3325553238391876,
          0.33996981382369995,
          0.38323718309402466,
          0.3032924234867096,
          0.31049463152885437,
          0.3038511276245117
         ],
         "xaxis": "x",
         "y": [
          -0.0907178521156311,
          0.2445361465215683,
          0.2586785852909088,
          0.3230893015861511,
          0.08382407575845718,
          -0.02320580743253231,
          0.2742862105369568,
          0.23515236377716064,
          0.17696154117584229,
          0.26030489802360535,
          0.2047196477651596,
          0.03926566243171692,
          0.39262375235557556,
          0.2182723879814148,
          0.2977638244628906,
          -0.19691939651966095,
          0.29567867517471313,
          0.2599337697029114,
          -0.11457276344299316,
          0.13850809633731842,
          0.17247608304023743,
          0.41733628511428833,
          -0.027472035959362984,
          0.17208406329154968,
          0.10870213061571121,
          -0.061938874423503876,
          0.2949426472187042,
          0.25100794434547424,
          -0.09161367267370224,
          0.0543978214263916
         ],
         "yaxis": "y"
        },
        {
         "hovertemplate": "Model: %{customdata[0]}<br>Newline Count: %{customdata[1]}",
         "marker": {
          "color": "green",
          "size": 10
         },
         "mode": "markers",
         "name": "Baseline Generation Mean",
         "type": "scatter",
         "x": [
          -0.5480093359947205
         ],
         "y": [
          0.04595622047781944
         ]
        }
       ],
       "layout": {
        "coloraxis": {
         "colorbar": {
          "x": 100,
          "xref": "container",
          "y": 1,
          "yanchor": "top"
         }
        },
        "legend": {
         "title": {
          "text": "model, newline_num"
         },
         "tracegroupgap": 0
        },
        "template": {
         "data": {
          "bar": [
           {
            "error_x": {
             "color": "#2a3f5f"
            },
            "error_y": {
             "color": "#2a3f5f"
            },
            "marker": {
             "line": {
              "color": "#E5ECF6",
              "width": 0.5
             },
             "pattern": {
              "fillmode": "overlay",
              "size": 10,
              "solidity": 0.2
             }
            },
            "type": "bar"
           }
          ],
          "barpolar": [
           {
            "marker": {
             "line": {
              "color": "#E5ECF6",
              "width": 0.5
             },
             "pattern": {
              "fillmode": "overlay",
              "size": 10,
              "solidity": 0.2
             }
            },
            "type": "barpolar"
           }
          ],
          "carpet": [
           {
            "aaxis": {
             "endlinecolor": "#2a3f5f",
             "gridcolor": "white",
             "linecolor": "white",
             "minorgridcolor": "white",
             "startlinecolor": "#2a3f5f"
            },
            "baxis": {
             "endlinecolor": "#2a3f5f",
             "gridcolor": "white",
             "linecolor": "white",
             "minorgridcolor": "white",
             "startlinecolor": "#2a3f5f"
            },
            "type": "carpet"
           }
          ],
          "choropleth": [
           {
            "colorbar": {
             "outlinewidth": 0,
             "ticks": ""
            },
            "type": "choropleth"
           }
          ],
          "contour": [
           {
            "colorbar": {
             "outlinewidth": 0,
             "ticks": ""
            },
            "colorscale": [
             [
              0,
              "#0d0887"
             ],
             [
              0.1111111111111111,
              "#46039f"
             ],
             [
              0.2222222222222222,
              "#7201a8"
             ],
             [
              0.3333333333333333,
              "#9c179e"
             ],
             [
              0.4444444444444444,
              "#bd3786"
             ],
             [
              0.5555555555555556,
              "#d8576b"
             ],
             [
              0.6666666666666666,
              "#ed7953"
             ],
             [
              0.7777777777777778,
              "#fb9f3a"
             ],
             [
              0.8888888888888888,
              "#fdca26"
             ],
             [
              1,
              "#f0f921"
             ]
            ],
            "type": "contour"
           }
          ],
          "contourcarpet": [
           {
            "colorbar": {
             "outlinewidth": 0,
             "ticks": ""
            },
            "type": "contourcarpet"
           }
          ],
          "heatmap": [
           {
            "colorbar": {
             "outlinewidth": 0,
             "ticks": ""
            },
            "colorscale": [
             [
              0,
              "#0d0887"
             ],
             [
              0.1111111111111111,
              "#46039f"
             ],
             [
              0.2222222222222222,
              "#7201a8"
             ],
             [
              0.3333333333333333,
              "#9c179e"
             ],
             [
              0.4444444444444444,
              "#bd3786"
             ],
             [
              0.5555555555555556,
              "#d8576b"
             ],
             [
              0.6666666666666666,
              "#ed7953"
             ],
             [
              0.7777777777777778,
              "#fb9f3a"
             ],
             [
              0.8888888888888888,
              "#fdca26"
             ],
             [
              1,
              "#f0f921"
             ]
            ],
            "type": "heatmap"
           }
          ],
          "heatmapgl": [
           {
            "colorbar": {
             "outlinewidth": 0,
             "ticks": ""
            },
            "colorscale": [
             [
              0,
              "#0d0887"
             ],
             [
              0.1111111111111111,
              "#46039f"
             ],
             [
              0.2222222222222222,
              "#7201a8"
             ],
             [
              0.3333333333333333,
              "#9c179e"
             ],
             [
              0.4444444444444444,
              "#bd3786"
             ],
             [
              0.5555555555555556,
              "#d8576b"
             ],
             [
              0.6666666666666666,
              "#ed7953"
             ],
             [
              0.7777777777777778,
              "#fb9f3a"
             ],
             [
              0.8888888888888888,
              "#fdca26"
             ],
             [
              1,
              "#f0f921"
             ]
            ],
            "type": "heatmapgl"
           }
          ],
          "histogram": [
           {
            "marker": {
             "pattern": {
              "fillmode": "overlay",
              "size": 10,
              "solidity": 0.2
             }
            },
            "type": "histogram"
           }
          ],
          "histogram2d": [
           {
            "colorbar": {
             "outlinewidth": 0,
             "ticks": ""
            },
            "colorscale": [
             [
              0,
              "#0d0887"
             ],
             [
              0.1111111111111111,
              "#46039f"
             ],
             [
              0.2222222222222222,
              "#7201a8"
             ],
             [
              0.3333333333333333,
              "#9c179e"
             ],
             [
              0.4444444444444444,
              "#bd3786"
             ],
             [
              0.5555555555555556,
              "#d8576b"
             ],
             [
              0.6666666666666666,
              "#ed7953"
             ],
             [
              0.7777777777777778,
              "#fb9f3a"
             ],
             [
              0.8888888888888888,
              "#fdca26"
             ],
             [
              1,
              "#f0f921"
             ]
            ],
            "type": "histogram2d"
           }
          ],
          "histogram2dcontour": [
           {
            "colorbar": {
             "outlinewidth": 0,
             "ticks": ""
            },
            "colorscale": [
             [
              0,
              "#0d0887"
             ],
             [
              0.1111111111111111,
              "#46039f"
             ],
             [
              0.2222222222222222,
              "#7201a8"
             ],
             [
              0.3333333333333333,
              "#9c179e"
             ],
             [
              0.4444444444444444,
              "#bd3786"
             ],
             [
              0.5555555555555556,
              "#d8576b"
             ],
             [
              0.6666666666666666,
              "#ed7953"
             ],
             [
              0.7777777777777778,
              "#fb9f3a"
             ],
             [
              0.8888888888888888,
              "#fdca26"
             ],
             [
              1,
              "#f0f921"
             ]
            ],
            "type": "histogram2dcontour"
           }
          ],
          "mesh3d": [
           {
            "colorbar": {
             "outlinewidth": 0,
             "ticks": ""
            },
            "type": "mesh3d"
           }
          ],
          "parcoords": [
           {
            "line": {
             "colorbar": {
              "outlinewidth": 0,
              "ticks": ""
             }
            },
            "type": "parcoords"
           }
          ],
          "pie": [
           {
            "automargin": true,
            "type": "pie"
           }
          ],
          "scatter": [
           {
            "fillpattern": {
             "fillmode": "overlay",
             "size": 10,
             "solidity": 0.2
            },
            "type": "scatter"
           }
          ],
          "scatter3d": [
           {
            "line": {
             "colorbar": {
              "outlinewidth": 0,
              "ticks": ""
             }
            },
            "marker": {
             "colorbar": {
              "outlinewidth": 0,
              "ticks": ""
             }
            },
            "type": "scatter3d"
           }
          ],
          "scattercarpet": [
           {
            "marker": {
             "colorbar": {
              "outlinewidth": 0,
              "ticks": ""
             }
            },
            "type": "scattercarpet"
           }
          ],
          "scattergeo": [
           {
            "marker": {
             "colorbar": {
              "outlinewidth": 0,
              "ticks": ""
             }
            },
            "type": "scattergeo"
           }
          ],
          "scattergl": [
           {
            "marker": {
             "colorbar": {
              "outlinewidth": 0,
              "ticks": ""
             }
            },
            "type": "scattergl"
           }
          ],
          "scattermapbox": [
           {
            "marker": {
             "colorbar": {
              "outlinewidth": 0,
              "ticks": ""
             }
            },
            "type": "scattermapbox"
           }
          ],
          "scatterpolar": [
           {
            "marker": {
             "colorbar": {
              "outlinewidth": 0,
              "ticks": ""
             }
            },
            "type": "scatterpolar"
           }
          ],
          "scatterpolargl": [
           {
            "marker": {
             "colorbar": {
              "outlinewidth": 0,
              "ticks": ""
             }
            },
            "type": "scatterpolargl"
           }
          ],
          "scatterternary": [
           {
            "marker": {
             "colorbar": {
              "outlinewidth": 0,
              "ticks": ""
             }
            },
            "type": "scatterternary"
           }
          ],
          "surface": [
           {
            "colorbar": {
             "outlinewidth": 0,
             "ticks": ""
            },
            "colorscale": [
             [
              0,
              "#0d0887"
             ],
             [
              0.1111111111111111,
              "#46039f"
             ],
             [
              0.2222222222222222,
              "#7201a8"
             ],
             [
              0.3333333333333333,
              "#9c179e"
             ],
             [
              0.4444444444444444,
              "#bd3786"
             ],
             [
              0.5555555555555556,
              "#d8576b"
             ],
             [
              0.6666666666666666,
              "#ed7953"
             ],
             [
              0.7777777777777778,
              "#fb9f3a"
             ],
             [
              0.8888888888888888,
              "#fdca26"
             ],
             [
              1,
              "#f0f921"
             ]
            ],
            "type": "surface"
           }
          ],
          "table": [
           {
            "cells": {
             "fill": {
              "color": "#EBF0F8"
             },
             "line": {
              "color": "white"
             }
            },
            "header": {
             "fill": {
              "color": "#C8D4E3"
             },
             "line": {
              "color": "white"
             }
            },
            "type": "table"
           }
          ]
         },
         "layout": {
          "annotationdefaults": {
           "arrowcolor": "#2a3f5f",
           "arrowhead": 0,
           "arrowwidth": 1
          },
          "autotypenumbers": "strict",
          "coloraxis": {
           "colorbar": {
            "outlinewidth": 0,
            "ticks": ""
           }
          },
          "colorscale": {
           "diverging": [
            [
             0,
             "#8e0152"
            ],
            [
             0.1,
             "#c51b7d"
            ],
            [
             0.2,
             "#de77ae"
            ],
            [
             0.3,
             "#f1b6da"
            ],
            [
             0.4,
             "#fde0ef"
            ],
            [
             0.5,
             "#f7f7f7"
            ],
            [
             0.6,
             "#e6f5d0"
            ],
            [
             0.7,
             "#b8e186"
            ],
            [
             0.8,
             "#7fbc41"
            ],
            [
             0.9,
             "#4d9221"
            ],
            [
             1,
             "#276419"
            ]
           ],
           "sequential": [
            [
             0,
             "#0d0887"
            ],
            [
             0.1111111111111111,
             "#46039f"
            ],
            [
             0.2222222222222222,
             "#7201a8"
            ],
            [
             0.3333333333333333,
             "#9c179e"
            ],
            [
             0.4444444444444444,
             "#bd3786"
            ],
            [
             0.5555555555555556,
             "#d8576b"
            ],
            [
             0.6666666666666666,
             "#ed7953"
            ],
            [
             0.7777777777777778,
             "#fb9f3a"
            ],
            [
             0.8888888888888888,
             "#fdca26"
            ],
            [
             1,
             "#f0f921"
            ]
           ],
           "sequentialminus": [
            [
             0,
             "#0d0887"
            ],
            [
             0.1111111111111111,
             "#46039f"
            ],
            [
             0.2222222222222222,
             "#7201a8"
            ],
            [
             0.3333333333333333,
             "#9c179e"
            ],
            [
             0.4444444444444444,
             "#bd3786"
            ],
            [
             0.5555555555555556,
             "#d8576b"
            ],
            [
             0.6666666666666666,
             "#ed7953"
            ],
            [
             0.7777777777777778,
             "#fb9f3a"
            ],
            [
             0.8888888888888888,
             "#fdca26"
            ],
            [
             1,
             "#f0f921"
            ]
           ]
          },
          "colorway": [
           "#636efa",
           "#EF553B",
           "#00cc96",
           "#ab63fa",
           "#FFA15A",
           "#19d3f3",
           "#FF6692",
           "#B6E880",
           "#FF97FF",
           "#FECB52"
          ],
          "font": {
           "color": "#2a3f5f"
          },
          "geo": {
           "bgcolor": "white",
           "lakecolor": "white",
           "landcolor": "#E5ECF6",
           "showlakes": true,
           "showland": true,
           "subunitcolor": "white"
          },
          "hoverlabel": {
           "align": "left"
          },
          "hovermode": "closest",
          "mapbox": {
           "style": "light"
          },
          "paper_bgcolor": "white",
          "plot_bgcolor": "#E5ECF6",
          "polar": {
           "angularaxis": {
            "gridcolor": "white",
            "linecolor": "white",
            "ticks": ""
           },
           "bgcolor": "#E5ECF6",
           "radialaxis": {
            "gridcolor": "white",
            "linecolor": "white",
            "ticks": ""
           }
          },
          "scene": {
           "xaxis": {
            "backgroundcolor": "#E5ECF6",
            "gridcolor": "white",
            "gridwidth": 2,
            "linecolor": "white",
            "showbackground": true,
            "ticks": "",
            "zerolinecolor": "white"
           },
           "yaxis": {
            "backgroundcolor": "#E5ECF6",
            "gridcolor": "white",
            "gridwidth": 2,
            "linecolor": "white",
            "showbackground": true,
            "ticks": "",
            "zerolinecolor": "white"
           },
           "zaxis": {
            "backgroundcolor": "#E5ECF6",
            "gridcolor": "white",
            "gridwidth": 2,
            "linecolor": "white",
            "showbackground": true,
            "ticks": "",
            "zerolinecolor": "white"
           }
          },
          "shapedefaults": {
           "line": {
            "color": "#2a3f5f"
           }
          },
          "ternary": {
           "aaxis": {
            "gridcolor": "white",
            "linecolor": "white",
            "ticks": ""
           },
           "baxis": {
            "gridcolor": "white",
            "linecolor": "white",
            "ticks": ""
           },
           "bgcolor": "#E5ECF6",
           "caxis": {
            "gridcolor": "white",
            "linecolor": "white",
            "ticks": ""
           }
          },
          "title": {
           "x": 0.05
          },
          "xaxis": {
           "automargin": true,
           "gridcolor": "white",
           "linecolor": "white",
           "ticks": "",
           "title": {
            "standoff": 15
           },
           "zerolinecolor": "white",
           "zerolinewidth": 2
          },
          "yaxis": {
           "automargin": true,
           "gridcolor": "white",
           "linecolor": "white",
           "ticks": "",
           "title": {
            "standoff": 15
           },
           "zerolinecolor": "white",
           "zerolinewidth": 2
          }
         }
        },
        "title": {
         "text": "PCA of Agnes Story Embeddings"
        },
        "xaxis": {
         "anchor": "y",
         "domain": [
          0,
          1
         ],
         "title": {
          "text": "dim1"
         }
        },
        "yaxis": {
         "anchor": "x",
         "domain": [
          0,
          1
         ],
         "title": {
          "text": "dim2"
         }
        }
       }
      },
      "text/html": [
       "<div>                            <div id=\"9aaa772a-47a1-4460-af50-103bee6c1c2f\" class=\"plotly-graph-div\" style=\"height:525px; width:100%;\"></div>            <script type=\"text/javascript\">                require([\"plotly\"], function(Plotly) {                    window.PLOTLYENV=window.PLOTLYENV || {};                                    if (document.getElementById(\"9aaa772a-47a1-4460-af50-103bee6c1c2f\")) {                    Plotly.newPlot(                        \"9aaa772a-47a1-4460-af50-103bee6c1c2f\",                        [{\"customdata\":[[\"phi-3-mini-4k-instruct\",2],[\"phi-3-mini-4k-instruct\",2],[\"phi-3-mini-4k-instruct\",2],[\"phi-3-mini-4k-instruct\",2],[\"phi-3-mini-4k-instruct\",2],[\"phi-3-mini-4k-instruct\",2],[\"phi-3-mini-4k-instruct\",2],[\"phi-3-mini-4k-instruct\",2],[\"phi-3-mini-4k-instruct\",2],[\"phi-3-mini-4k-instruct\",2],[\"phi-3-mini-4k-instruct\",2],[\"phi-3-mini-4k-instruct\",2],[\"phi-3-mini-4k-instruct\",2],[\"phi-3-mini-4k-instruct\",2],[\"phi-3-mini-4k-instruct\",2],[\"phi-3-mini-4k-instruct\",2],[\"phi-3-mini-4k-instruct\",2],[\"phi-3-mini-4k-instruct\",2],[\"phi-3-mini-4k-instruct\",2],[\"phi-3-mini-4k-instruct\",2],[\"phi-3-mini-4k-instruct\",2],[\"phi-3-mini-4k-instruct\",2],[\"phi-3-mini-4k-instruct\",2],[\"phi-3-mini-4k-instruct\",2],[\"phi-3-mini-4k-instruct\",2],[\"phi-3-mini-4k-instruct\",2],[\"phi-3-mini-4k-instruct\",2],[\"phi-3-mini-4k-instruct\",2],[\"phi-3-mini-4k-instruct\",2],[\"phi-3-mini-4k-instruct\",2]],\"hovertemplate\":\"Model: %{customdata[0]}\\u003cbr\\u003eNewline Count: %{customdata[1]}\",\"legendgroup\":\"phi-3-mini-4k-instruct, 2\",\"marker\":{\"color\":\"#636efa\",\"symbol\":\"circle\"},\"mode\":\"markers\",\"name\":\"phi-3-mini-4k-instruct, 2\",\"orientation\":\"v\",\"showlegend\":true,\"x\":[0.23676304519176483,0.35992562770843506,-0.06529960036277771,-0.15774929523468018,0.19958049058914185,-0.04257366806268692,-0.13084302842617035,-0.14679117500782013,-0.21656568348407745,0.21031254529953003,-0.18894639611244202,-0.3330339193344116,0.28649353981018066,0.0877465233206749,-0.2656974494457245,-0.18599894642829895,0.2943076193332672,-0.24409569799900055,-0.0973147600889206,-0.05253584682941437,-0.30155810713768005,-0.22574254870414734,0.27660080790519714,-0.029995311051607132,-0.3234488368034363,0.24299383163452148,-0.23320530354976654,0.30231809616088867,-0.1173655316233635,0.23689746856689453],\"xaxis\":\"x\",\"y\":[0.04100019484758377,-0.11594889312982559,-0.11434715241193771,-0.3036074936389923,0.13062186539173126,-0.44003772735595703,-0.3244015872478485,0.03992604836821556,-0.26200664043426514,-0.1363256424665451,-0.322434663772583,0.14065168797969818,0.037550728768110275,-0.3790043890476227,0.09337463974952698,0.012322931550443172,0.023335328325629234,0.016573466360569,-0.3490504026412964,-0.44605696201324463,0.16544325649738312,-0.24348309636116028,0.27727416157722473,-0.45996832847595215,0.04709772393107414,-0.06410092860460281,0.12838062644004822,-0.13667869567871094,-0.3520470857620239,-0.11525552719831467],\"yaxis\":\"y\",\"type\":\"scatter\"},{\"customdata\":[[\"phi-3-mini-4k-instruct\",1],[\"phi-3-mini-4k-instruct\",1],[\"phi-3-mini-4k-instruct\",1],[\"phi-3-mini-4k-instruct\",1],[\"phi-3-mini-4k-instruct\",1],[\"phi-3-mini-4k-instruct\",1],[\"phi-3-mini-4k-instruct\",1],[\"phi-3-mini-4k-instruct\",1],[\"phi-3-mini-4k-instruct\",1],[\"phi-3-mini-4k-instruct\",1],[\"phi-3-mini-4k-instruct\",1],[\"phi-3-mini-4k-instruct\",1],[\"phi-3-mini-4k-instruct\",1],[\"phi-3-mini-4k-instruct\",1],[\"phi-3-mini-4k-instruct\",1],[\"phi-3-mini-4k-instruct\",1],[\"phi-3-mini-4k-instruct\",1],[\"phi-3-mini-4k-instruct\",1],[\"phi-3-mini-4k-instruct\",1],[\"phi-3-mini-4k-instruct\",1],[\"phi-3-mini-4k-instruct\",1],[\"phi-3-mini-4k-instruct\",1],[\"phi-3-mini-4k-instruct\",1],[\"phi-3-mini-4k-instruct\",1],[\"phi-3-mini-4k-instruct\",1],[\"phi-3-mini-4k-instruct\",1],[\"phi-3-mini-4k-instruct\",1],[\"phi-3-mini-4k-instruct\",1],[\"phi-3-mini-4k-instruct\",1],[\"phi-3-mini-4k-instruct\",1]],\"hovertemplate\":\"Model: %{customdata[0]}\\u003cbr\\u003eNewline Count: %{customdata[1]}\",\"legendgroup\":\"phi-3-mini-4k-instruct, 1\",\"marker\":{\"color\":\"#636efa\",\"symbol\":\"square\"},\"mode\":\"markers\",\"name\":\"phi-3-mini-4k-instruct, 1\",\"orientation\":\"v\",\"showlegend\":true,\"x\":[0.22981329262256622,0.36648157238960266,0.14885807037353516,0.2035631239414215,0.22385725378990173,0.25041207671165466,0.22248432040214539,0.2607332468032837,0.3262051045894623,0.26865366101264954,0.24745893478393555,0.2980741560459137,0.3078542947769165,0.32543468475341797,0.31103619933128357,0.270866721868515,0.17885258793830872,0.21754351258277893,0.3094829022884369,0.17914748191833496,0.32620519399642944,0.28117531538009644,0.27275484800338745,0.30164626240730286,0.31626445055007935,0.2397981733083725,0.3000223934650421,0.3340688943862915,0.2654474973678589,0.3329819142818451],\"xaxis\":\"x\",\"y\":[-0.36794695258140564,-0.0873560979962349,-0.4393746554851532,-0.19284261763095856,-0.42102840542793274,-0.32938891649246216,-0.48153960704803467,-0.4274252951145172,-0.5503853559494019,-0.08641611039638519,-0.024766914546489716,-0.3124549984931946,0.018847083672881126,-0.5218852162361145,-0.0445767380297184,-0.3323485255241394,-0.148250550031662,-0.3973803222179413,-0.5948560237884521,-0.09251543879508972,-0.5503853559494019,-0.5463223457336426,-0.3944455683231354,-0.3068024516105652,0.02378581091761589,-0.38223347067832947,-0.06613872200250626,-0.5645310878753662,-0.3962952196598053,0.029851971194148064],\"yaxis\":\"y\",\"type\":\"scatter\"},{\"customdata\":[[\"gpt2-large\",2],[\"gpt2-large\",2],[\"gpt2-large\",2],[\"gpt2-large\",2],[\"gpt2-large\",2],[\"gpt2-large\",2],[\"gpt2-large\",2],[\"gpt2-large\",2],[\"gpt2-large\",2],[\"gpt2-large\",2],[\"gpt2-large\",2],[\"gpt2-large\",2],[\"gpt2-large\",2],[\"gpt2-large\",2],[\"gpt2-large\",2],[\"gpt2-large\",2],[\"gpt2-large\",2],[\"gpt2-large\",2],[\"gpt2-large\",2],[\"gpt2-large\",2],[\"gpt2-large\",2],[\"gpt2-large\",2],[\"gpt2-large\",2],[\"gpt2-large\",2],[\"gpt2-large\",2],[\"gpt2-large\",2],[\"gpt2-large\",2],[\"gpt2-large\",2],[\"gpt2-large\",2],[\"gpt2-large\",2]],\"hovertemplate\":\"Model: %{customdata[0]}\\u003cbr\\u003eNewline Count: %{customdata[1]}\",\"legendgroup\":\"gpt2-large, 2\",\"marker\":{\"color\":\"#EF553B\",\"symbol\":\"circle\"},\"mode\":\"markers\",\"name\":\"gpt2-large, 2\",\"orientation\":\"v\",\"showlegend\":true,\"x\":[0.12525300681591034,0.2615208625793457,0.306978315114975,0.231253981590271,0.38656049966812134,0.29668673872947693,0.37570878863334656,0.34926706552505493,0.2482101321220398,0.345468670129776,0.27466729283332825,0.1614997535943985,0.43282392621040344,0.41846412420272827,0.3038685917854309,0.4097706377506256,0.40895864367485046,0.3492565155029297,0.2233089953660965,0.42026302218437195,0.39891037344932556,0.38479456305503845,0.3205730617046356,0.2929954528808594,0.25931140780448914,0.25627678632736206,0.4428686499595642,0.339418888092041,0.32883259654045105,0.2620012164115906],\"xaxis\":\"x\",\"y\":[-0.08196955174207687,-0.09207691997289658,0.24585825204849243,0.22479897737503052,0.24710603058338165,0.09705492109060287,0.3350244462490082,0.4243661165237427,0.012503155507147312,0.37589502334594727,-0.10947418212890625,0.16122394800186157,0.21266242861747742,0.3475131094455719,0.28936871886253357,0.11151857674121857,0.4578540623188019,0.24260921776294708,0.18811306357383728,0.2323748618364334,0.17327669262886047,0.34670671820640564,0.2321169376373291,-0.11069677770137787,0.29137328267097473,0.312796413898468,0.1682540625333786,0.13599587976932526,0.14894206821918488,-0.08839572221040726],\"yaxis\":\"y\",\"type\":\"scatter\"},{\"customdata\":[[\"gpt2-large\",1],[\"gpt2-large\",1],[\"gpt2-large\",1],[\"gpt2-large\",1],[\"gpt2-large\",1],[\"gpt2-large\",1],[\"gpt2-large\",1],[\"gpt2-large\",1],[\"gpt2-large\",1],[\"gpt2-large\",1],[\"gpt2-large\",1],[\"gpt2-large\",1],[\"gpt2-large\",1],[\"gpt2-large\",1],[\"gpt2-large\",1],[\"gpt2-large\",1],[\"gpt2-large\",1],[\"gpt2-large\",1],[\"gpt2-large\",1],[\"gpt2-large\",1],[\"gpt2-large\",1],[\"gpt2-large\",1],[\"gpt2-large\",1],[\"gpt2-large\",1],[\"gpt2-large\",1],[\"gpt2-large\",1],[\"gpt2-large\",1],[\"gpt2-large\",1],[\"gpt2-large\",1],[\"gpt2-large\",1]],\"hovertemplate\":\"Model: %{customdata[0]}\\u003cbr\\u003eNewline Count: %{customdata[1]}\",\"legendgroup\":\"gpt2-large, 1\",\"marker\":{\"color\":\"#EF553B\",\"symbol\":\"square\"},\"mode\":\"markers\",\"name\":\"gpt2-large, 1\",\"orientation\":\"v\",\"showlegend\":true,\"x\":[0.11340580135583878,0.2845248579978943,0.24224810302257538,0.39801254868507385,0.28144437074661255,0.2836844325065613,0.4311489164829254,0.31379052996635437,0.3350498378276825,0.3567129969596863,0.4329533278942108,0.3541433811187744,0.3970518112182617,0.301598459482193,0.43433502316474915,0.36686283349990845,0.38220706582069397,0.3791806697845459,0.31061798334121704,0.4063306152820587,0.39679110050201416,0.40019652247428894,0.36731576919555664,0.34932804107666016,0.3325553238391876,0.33996981382369995,0.38323718309402466,0.3032924234867096,0.31049463152885437,0.3038511276245117],\"xaxis\":\"x\",\"y\":[-0.0907178521156311,0.2445361465215683,0.2586785852909088,0.3230893015861511,0.08382407575845718,-0.02320580743253231,0.2742862105369568,0.23515236377716064,0.17696154117584229,0.26030489802360535,0.2047196477651596,0.03926566243171692,0.39262375235557556,0.2182723879814148,0.2977638244628906,-0.19691939651966095,0.29567867517471313,0.2599337697029114,-0.11457276344299316,0.13850809633731842,0.17247608304023743,0.41733628511428833,-0.027472035959362984,0.17208406329154968,0.10870213061571121,-0.061938874423503876,0.2949426472187042,0.25100794434547424,-0.09161367267370224,0.0543978214263916],\"yaxis\":\"y\",\"type\":\"scatter\"},{\"marker\":{\"color\":\"green\",\"size\":10},\"mode\":\"markers\",\"name\":\"Baseline Generation Mean\",\"x\":[-0.5480093359947205],\"y\":[0.04595622047781944],\"type\":\"scatter\",\"hovertemplate\":\"Model: %{customdata[0]}\\u003cbr\\u003eNewline Count: %{customdata[1]}\"}],                        {\"template\":{\"data\":{\"histogram2dcontour\":[{\"type\":\"histogram2dcontour\",\"colorbar\":{\"outlinewidth\":0,\"ticks\":\"\"},\"colorscale\":[[0.0,\"#0d0887\"],[0.1111111111111111,\"#46039f\"],[0.2222222222222222,\"#7201a8\"],[0.3333333333333333,\"#9c179e\"],[0.4444444444444444,\"#bd3786\"],[0.5555555555555556,\"#d8576b\"],[0.6666666666666666,\"#ed7953\"],[0.7777777777777778,\"#fb9f3a\"],[0.8888888888888888,\"#fdca26\"],[1.0,\"#f0f921\"]]}],\"choropleth\":[{\"type\":\"choropleth\",\"colorbar\":{\"outlinewidth\":0,\"ticks\":\"\"}}],\"histogram2d\":[{\"type\":\"histogram2d\",\"colorbar\":{\"outlinewidth\":0,\"ticks\":\"\"},\"colorscale\":[[0.0,\"#0d0887\"],[0.1111111111111111,\"#46039f\"],[0.2222222222222222,\"#7201a8\"],[0.3333333333333333,\"#9c179e\"],[0.4444444444444444,\"#bd3786\"],[0.5555555555555556,\"#d8576b\"],[0.6666666666666666,\"#ed7953\"],[0.7777777777777778,\"#fb9f3a\"],[0.8888888888888888,\"#fdca26\"],[1.0,\"#f0f921\"]]}],\"heatmap\":[{\"type\":\"heatmap\",\"colorbar\":{\"outlinewidth\":0,\"ticks\":\"\"},\"colorscale\":[[0.0,\"#0d0887\"],[0.1111111111111111,\"#46039f\"],[0.2222222222222222,\"#7201a8\"],[0.3333333333333333,\"#9c179e\"],[0.4444444444444444,\"#bd3786\"],[0.5555555555555556,\"#d8576b\"],[0.6666666666666666,\"#ed7953\"],[0.7777777777777778,\"#fb9f3a\"],[0.8888888888888888,\"#fdca26\"],[1.0,\"#f0f921\"]]}],\"heatmapgl\":[{\"type\":\"heatmapgl\",\"colorbar\":{\"outlinewidth\":0,\"ticks\":\"\"},\"colorscale\":[[0.0,\"#0d0887\"],[0.1111111111111111,\"#46039f\"],[0.2222222222222222,\"#7201a8\"],[0.3333333333333333,\"#9c179e\"],[0.4444444444444444,\"#bd3786\"],[0.5555555555555556,\"#d8576b\"],[0.6666666666666666,\"#ed7953\"],[0.7777777777777778,\"#fb9f3a\"],[0.8888888888888888,\"#fdca26\"],[1.0,\"#f0f921\"]]}],\"contourcarpet\":[{\"type\":\"contourcarpet\",\"colorbar\":{\"outlinewidth\":0,\"ticks\":\"\"}}],\"contour\":[{\"type\":\"contour\",\"colorbar\":{\"outlinewidth\":0,\"ticks\":\"\"},\"colorscale\":[[0.0,\"#0d0887\"],[0.1111111111111111,\"#46039f\"],[0.2222222222222222,\"#7201a8\"],[0.3333333333333333,\"#9c179e\"],[0.4444444444444444,\"#bd3786\"],[0.5555555555555556,\"#d8576b\"],[0.6666666666666666,\"#ed7953\"],[0.7777777777777778,\"#fb9f3a\"],[0.8888888888888888,\"#fdca26\"],[1.0,\"#f0f921\"]]}],\"surface\":[{\"type\":\"surface\",\"colorbar\":{\"outlinewidth\":0,\"ticks\":\"\"},\"colorscale\":[[0.0,\"#0d0887\"],[0.1111111111111111,\"#46039f\"],[0.2222222222222222,\"#7201a8\"],[0.3333333333333333,\"#9c179e\"],[0.4444444444444444,\"#bd3786\"],[0.5555555555555556,\"#d8576b\"],[0.6666666666666666,\"#ed7953\"],[0.7777777777777778,\"#fb9f3a\"],[0.8888888888888888,\"#fdca26\"],[1.0,\"#f0f921\"]]}],\"mesh3d\":[{\"type\":\"mesh3d\",\"colorbar\":{\"outlinewidth\":0,\"ticks\":\"\"}}],\"scatter\":[{\"fillpattern\":{\"fillmode\":\"overlay\",\"size\":10,\"solidity\":0.2},\"type\":\"scatter\"}],\"parcoords\":[{\"type\":\"parcoords\",\"line\":{\"colorbar\":{\"outlinewidth\":0,\"ticks\":\"\"}}}],\"scatterpolargl\":[{\"type\":\"scatterpolargl\",\"marker\":{\"colorbar\":{\"outlinewidth\":0,\"ticks\":\"\"}}}],\"bar\":[{\"error_x\":{\"color\":\"#2a3f5f\"},\"error_y\":{\"color\":\"#2a3f5f\"},\"marker\":{\"line\":{\"color\":\"#E5ECF6\",\"width\":0.5},\"pattern\":{\"fillmode\":\"overlay\",\"size\":10,\"solidity\":0.2}},\"type\":\"bar\"}],\"scattergeo\":[{\"type\":\"scattergeo\",\"marker\":{\"colorbar\":{\"outlinewidth\":0,\"ticks\":\"\"}}}],\"scatterpolar\":[{\"type\":\"scatterpolar\",\"marker\":{\"colorbar\":{\"outlinewidth\":0,\"ticks\":\"\"}}}],\"histogram\":[{\"marker\":{\"pattern\":{\"fillmode\":\"overlay\",\"size\":10,\"solidity\":0.2}},\"type\":\"histogram\"}],\"scattergl\":[{\"type\":\"scattergl\",\"marker\":{\"colorbar\":{\"outlinewidth\":0,\"ticks\":\"\"}}}],\"scatter3d\":[{\"type\":\"scatter3d\",\"line\":{\"colorbar\":{\"outlinewidth\":0,\"ticks\":\"\"}},\"marker\":{\"colorbar\":{\"outlinewidth\":0,\"ticks\":\"\"}}}],\"scattermapbox\":[{\"type\":\"scattermapbox\",\"marker\":{\"colorbar\":{\"outlinewidth\":0,\"ticks\":\"\"}}}],\"scatterternary\":[{\"type\":\"scatterternary\",\"marker\":{\"colorbar\":{\"outlinewidth\":0,\"ticks\":\"\"}}}],\"scattercarpet\":[{\"type\":\"scattercarpet\",\"marker\":{\"colorbar\":{\"outlinewidth\":0,\"ticks\":\"\"}}}],\"carpet\":[{\"aaxis\":{\"endlinecolor\":\"#2a3f5f\",\"gridcolor\":\"white\",\"linecolor\":\"white\",\"minorgridcolor\":\"white\",\"startlinecolor\":\"#2a3f5f\"},\"baxis\":{\"endlinecolor\":\"#2a3f5f\",\"gridcolor\":\"white\",\"linecolor\":\"white\",\"minorgridcolor\":\"white\",\"startlinecolor\":\"#2a3f5f\"},\"type\":\"carpet\"}],\"table\":[{\"cells\":{\"fill\":{\"color\":\"#EBF0F8\"},\"line\":{\"color\":\"white\"}},\"header\":{\"fill\":{\"color\":\"#C8D4E3\"},\"line\":{\"color\":\"white\"}},\"type\":\"table\"}],\"barpolar\":[{\"marker\":{\"line\":{\"color\":\"#E5ECF6\",\"width\":0.5},\"pattern\":{\"fillmode\":\"overlay\",\"size\":10,\"solidity\":0.2}},\"type\":\"barpolar\"}],\"pie\":[{\"automargin\":true,\"type\":\"pie\"}]},\"layout\":{\"autotypenumbers\":\"strict\",\"colorway\":[\"#636efa\",\"#EF553B\",\"#00cc96\",\"#ab63fa\",\"#FFA15A\",\"#19d3f3\",\"#FF6692\",\"#B6E880\",\"#FF97FF\",\"#FECB52\"],\"font\":{\"color\":\"#2a3f5f\"},\"hovermode\":\"closest\",\"hoverlabel\":{\"align\":\"left\"},\"paper_bgcolor\":\"white\",\"plot_bgcolor\":\"#E5ECF6\",\"polar\":{\"bgcolor\":\"#E5ECF6\",\"angularaxis\":{\"gridcolor\":\"white\",\"linecolor\":\"white\",\"ticks\":\"\"},\"radialaxis\":{\"gridcolor\":\"white\",\"linecolor\":\"white\",\"ticks\":\"\"}},\"ternary\":{\"bgcolor\":\"#E5ECF6\",\"aaxis\":{\"gridcolor\":\"white\",\"linecolor\":\"white\",\"ticks\":\"\"},\"baxis\":{\"gridcolor\":\"white\",\"linecolor\":\"white\",\"ticks\":\"\"},\"caxis\":{\"gridcolor\":\"white\",\"linecolor\":\"white\",\"ticks\":\"\"}},\"coloraxis\":{\"colorbar\":{\"outlinewidth\":0,\"ticks\":\"\"}},\"colorscale\":{\"sequential\":[[0.0,\"#0d0887\"],[0.1111111111111111,\"#46039f\"],[0.2222222222222222,\"#7201a8\"],[0.3333333333333333,\"#9c179e\"],[0.4444444444444444,\"#bd3786\"],[0.5555555555555556,\"#d8576b\"],[0.6666666666666666,\"#ed7953\"],[0.7777777777777778,\"#fb9f3a\"],[0.8888888888888888,\"#fdca26\"],[1.0,\"#f0f921\"]],\"sequentialminus\":[[0.0,\"#0d0887\"],[0.1111111111111111,\"#46039f\"],[0.2222222222222222,\"#7201a8\"],[0.3333333333333333,\"#9c179e\"],[0.4444444444444444,\"#bd3786\"],[0.5555555555555556,\"#d8576b\"],[0.6666666666666666,\"#ed7953\"],[0.7777777777777778,\"#fb9f3a\"],[0.8888888888888888,\"#fdca26\"],[1.0,\"#f0f921\"]],\"diverging\":[[0,\"#8e0152\"],[0.1,\"#c51b7d\"],[0.2,\"#de77ae\"],[0.3,\"#f1b6da\"],[0.4,\"#fde0ef\"],[0.5,\"#f7f7f7\"],[0.6,\"#e6f5d0\"],[0.7,\"#b8e186\"],[0.8,\"#7fbc41\"],[0.9,\"#4d9221\"],[1,\"#276419\"]]},\"xaxis\":{\"gridcolor\":\"white\",\"linecolor\":\"white\",\"ticks\":\"\",\"title\":{\"standoff\":15},\"zerolinecolor\":\"white\",\"automargin\":true,\"zerolinewidth\":2},\"yaxis\":{\"gridcolor\":\"white\",\"linecolor\":\"white\",\"ticks\":\"\",\"title\":{\"standoff\":15},\"zerolinecolor\":\"white\",\"automargin\":true,\"zerolinewidth\":2},\"scene\":{\"xaxis\":{\"backgroundcolor\":\"#E5ECF6\",\"gridcolor\":\"white\",\"linecolor\":\"white\",\"showbackground\":true,\"ticks\":\"\",\"zerolinecolor\":\"white\",\"gridwidth\":2},\"yaxis\":{\"backgroundcolor\":\"#E5ECF6\",\"gridcolor\":\"white\",\"linecolor\":\"white\",\"showbackground\":true,\"ticks\":\"\",\"zerolinecolor\":\"white\",\"gridwidth\":2},\"zaxis\":{\"backgroundcolor\":\"#E5ECF6\",\"gridcolor\":\"white\",\"linecolor\":\"white\",\"showbackground\":true,\"ticks\":\"\",\"zerolinecolor\":\"white\",\"gridwidth\":2}},\"shapedefaults\":{\"line\":{\"color\":\"#2a3f5f\"}},\"annotationdefaults\":{\"arrowcolor\":\"#2a3f5f\",\"arrowhead\":0,\"arrowwidth\":1},\"geo\":{\"bgcolor\":\"white\",\"landcolor\":\"#E5ECF6\",\"subunitcolor\":\"white\",\"showland\":true,\"showlakes\":true,\"lakecolor\":\"white\"},\"title\":{\"x\":0.05},\"mapbox\":{\"style\":\"light\"}}},\"xaxis\":{\"anchor\":\"y\",\"domain\":[0.0,1.0],\"title\":{\"text\":\"dim1\"}},\"yaxis\":{\"anchor\":\"x\",\"domain\":[0.0,1.0],\"title\":{\"text\":\"dim2\"}},\"legend\":{\"title\":{\"text\":\"model, newline_num\"},\"tracegroupgap\":0},\"title\":{\"text\":\"PCA of Agnes Story Embeddings\"},\"coloraxis\":{\"colorbar\":{\"yanchor\":\"top\",\"y\":1,\"x\":100,\"xref\":\"container\"}}},                        {\"responsive\": true}                    ).then(function(){\n",
       "                            \n",
       "var gd = document.getElementById('9aaa772a-47a1-4460-af50-103bee6c1c2f');\n",
       "var x = new MutationObserver(function (mutations, observer) {{\n",
       "        var display = window.getComputedStyle(gd).display;\n",
       "        if (!display || display === 'none') {{\n",
       "            console.log([gd, 'removed!']);\n",
       "            Plotly.purge(gd);\n",
       "            observer.disconnect();\n",
       "        }}\n",
       "}});\n",
       "\n",
       "// Listen for the removal of the full notebook cells\n",
       "var notebookContainer = gd.closest('#notebook-container');\n",
       "if (notebookContainer) {{\n",
       "    x.observe(notebookContainer, {childList: true});\n",
       "}}\n",
       "\n",
       "// Listen for the clearing of the current output cell\n",
       "var outputEl = gd.closest('.output');\n",
       "if (outputEl) {{\n",
       "    x.observe(outputEl, {childList: true});\n",
       "}}\n",
       "\n",
       "                        })                };                });            </script>        </div>"
      ]
     },
     "metadata": {},
     "output_type": "display_data"
    }
   ],
   "source": [
    "# carry out pca on embeddings using sklearn\n",
    "reducer = PCA(n_components=2)\n",
    "embeddings_reduced = reducer.fit_transform(embeddings)\n",
    "print(embeddings_reduced.shape)\n",
    "\n",
    "# visualize the embeddings using plotly\n",
    "import plotly.express as px\n",
    "import plotly.graph_objects as go\n",
    "\n",
    "results_df[\"dim1\"] = embeddings_reduced[:results_df.shape[0], 0]\n",
    "results_df[\"dim2\"] = embeddings_reduced[:results_df.shape[0], 1]\n",
    "base_df[\"dim1\"] = embeddings_reduced[results_df.shape[0]:, 0]\n",
    "base_df[\"dim2\"] = embeddings_reduced[results_df.shape[0]:, 1]\n",
    "baseline_mean_x = base_df[\"dim1\"].mean(axis=0)\n",
    "baseline_mean_y = base_df[\"dim2\"].mean(axis=0)\n",
    "\n",
    "results_df[\"truncated_output\"] = results_df[\"output\"].str.slice(0,100)\n",
    "\n",
    "fig = px.scatter(\n",
    "    results_df,\n",
    "    x=\"dim1\",\n",
    "    y=\"dim2\",\n",
    "    hover_data=[\"model\", \"newline_num\"],\n",
    "    title=\"PCA of Agnes Story Embeddings\",\n",
    "    color=\"model\",\n",
    "    symbol=\"newline_num\",\n",
    "    symbol_sequence = ['circle', 'square', 'diamond', 'cross', 'x', 'triangle-up', 'pentagon', 'hexagon', 'octagon', 'star'],\n",
    "\n",
    ")\n",
    "\n",
    "fig.add_trace(go.Scatter(x=[baseline_mean_x], y=[baseline_mean_y], mode='markers', marker=dict(color='green', size=10), name='Baseline Generation Mean'))\n",
    "\n",
    "\n",
    "fig.update_layout(coloraxis_colorbar=dict(yanchor=\"top\", y=1, x=100, xref=\"container\"))\n",
    "\n",
    "fig.update_traces(\n",
    "    hovertemplate=\"<br>\".join(\n",
    "        [\"Model: %{customdata[0]}\", \"Newline Count: %{customdata[1]}\"]\n",
    "    )\n",
    ")\n",
    "\n",
    "\n",
    "\n",
    "fig.show()"
   ]
  },
  {
   "cell_type": "code",
   "execution_count": 16,
   "metadata": {},
   "outputs": [
    {
     "name": "stdout",
     "output_type": "stream",
     "text": [
      "                    model  newline_num       PC1       PC2\n",
      "0              gpt2-large          1.0  0.343078  0.152270\n",
      "1              gpt2-large          2.0  0.320526  0.184423\n",
      "2  phi-3-mini-4k-instruct          1.0  0.270573 -0.299580\n",
      "3  phi-3-mini-4k-instruct          2.0 -0.020827 -0.113707\n"
     ]
    },
    {
     "data": {
      "application/vnd.plotly.v1+json": {
       "config": {
        "plotlyServerURL": "https://plot.ly"
       },
       "data": [
        {
         "hovertemplate": "model=gpt2-large<br>newline_num=1.0<br>PC1=%{x}<br>PC2=%{y}<extra></extra>",
         "legendgroup": "gpt2-large, 1.0",
         "marker": {
          "color": "#636efa",
          "symbol": "circle"
         },
         "mode": "markers",
         "name": "gpt2-large, 1.0",
         "orientation": "v",
         "showlegend": true,
         "type": "scatter",
         "x": [
          0.3430778384208679
         ],
         "xaxis": "x",
         "y": [
          0.15227018296718597
         ],
         "yaxis": "y"
        },
        {
         "hovertemplate": "model=gpt2-large<br>newline_num=2.0<br>PC1=%{x}<br>PC2=%{y}<extra></extra>",
         "legendgroup": "gpt2-large, 2.0",
         "marker": {
          "color": "#636efa",
          "symbol": "square"
         },
         "mode": "markers",
         "name": "gpt2-large, 2.0",
         "orientation": "v",
         "showlegend": true,
         "type": "scatter",
         "x": [
          0.32052573561668396
         ],
         "xaxis": "x",
         "y": [
          0.18442313373088837
         ],
         "yaxis": "y"
        },
        {
         "hovertemplate": "model=phi-3-mini-4k-instruct<br>newline_num=1.0<br>PC1=%{x}<br>PC2=%{y}<extra></extra>",
         "legendgroup": "phi-3-mini-4k-instruct, 1.0",
         "marker": {
          "color": "#EF553B",
          "symbol": "circle"
         },
         "mode": "markers",
         "name": "phi-3-mini-4k-instruct, 1.0",
         "orientation": "v",
         "showlegend": true,
         "type": "scatter",
         "x": [
          0.27057260274887085
         ],
         "xaxis": "x",
         "y": [
          -0.29958027601242065
         ],
         "yaxis": "y"
        },
        {
         "hovertemplate": "model=phi-3-mini-4k-instruct<br>newline_num=2.0<br>PC1=%{x}<br>PC2=%{y}<extra></extra>",
         "legendgroup": "phi-3-mini-4k-instruct, 2.0",
         "marker": {
          "color": "#EF553B",
          "symbol": "square"
         },
         "mode": "markers",
         "name": "phi-3-mini-4k-instruct, 2.0",
         "orientation": "v",
         "showlegend": true,
         "type": "scatter",
         "x": [
          -0.020827384665608406
         ],
         "xaxis": "x",
         "y": [
          -0.11370674520730972
         ],
         "yaxis": "y"
        },
        {
         "marker": {
          "color": "green",
          "size": 10
         },
         "mode": "markers",
         "name": "Baseline Generation Mean",
         "type": "scatter",
         "x": [
          -0.5480093359947205
         ],
         "y": [
          0.04595622047781944
         ]
        }
       ],
       "layout": {
        "coloraxis": {
         "colorbar": {
          "x": 100,
          "xref": "container",
          "y": 1,
          "yanchor": "top"
         }
        },
        "legend": {
         "title": {
          "text": "model, newline_num"
         },
         "tracegroupgap": 0
        },
        "template": {
         "data": {
          "bar": [
           {
            "error_x": {
             "color": "#2a3f5f"
            },
            "error_y": {
             "color": "#2a3f5f"
            },
            "marker": {
             "line": {
              "color": "#E5ECF6",
              "width": 0.5
             },
             "pattern": {
              "fillmode": "overlay",
              "size": 10,
              "solidity": 0.2
             }
            },
            "type": "bar"
           }
          ],
          "barpolar": [
           {
            "marker": {
             "line": {
              "color": "#E5ECF6",
              "width": 0.5
             },
             "pattern": {
              "fillmode": "overlay",
              "size": 10,
              "solidity": 0.2
             }
            },
            "type": "barpolar"
           }
          ],
          "carpet": [
           {
            "aaxis": {
             "endlinecolor": "#2a3f5f",
             "gridcolor": "white",
             "linecolor": "white",
             "minorgridcolor": "white",
             "startlinecolor": "#2a3f5f"
            },
            "baxis": {
             "endlinecolor": "#2a3f5f",
             "gridcolor": "white",
             "linecolor": "white",
             "minorgridcolor": "white",
             "startlinecolor": "#2a3f5f"
            },
            "type": "carpet"
           }
          ],
          "choropleth": [
           {
            "colorbar": {
             "outlinewidth": 0,
             "ticks": ""
            },
            "type": "choropleth"
           }
          ],
          "contour": [
           {
            "colorbar": {
             "outlinewidth": 0,
             "ticks": ""
            },
            "colorscale": [
             [
              0,
              "#0d0887"
             ],
             [
              0.1111111111111111,
              "#46039f"
             ],
             [
              0.2222222222222222,
              "#7201a8"
             ],
             [
              0.3333333333333333,
              "#9c179e"
             ],
             [
              0.4444444444444444,
              "#bd3786"
             ],
             [
              0.5555555555555556,
              "#d8576b"
             ],
             [
              0.6666666666666666,
              "#ed7953"
             ],
             [
              0.7777777777777778,
              "#fb9f3a"
             ],
             [
              0.8888888888888888,
              "#fdca26"
             ],
             [
              1,
              "#f0f921"
             ]
            ],
            "type": "contour"
           }
          ],
          "contourcarpet": [
           {
            "colorbar": {
             "outlinewidth": 0,
             "ticks": ""
            },
            "type": "contourcarpet"
           }
          ],
          "heatmap": [
           {
            "colorbar": {
             "outlinewidth": 0,
             "ticks": ""
            },
            "colorscale": [
             [
              0,
              "#0d0887"
             ],
             [
              0.1111111111111111,
              "#46039f"
             ],
             [
              0.2222222222222222,
              "#7201a8"
             ],
             [
              0.3333333333333333,
              "#9c179e"
             ],
             [
              0.4444444444444444,
              "#bd3786"
             ],
             [
              0.5555555555555556,
              "#d8576b"
             ],
             [
              0.6666666666666666,
              "#ed7953"
             ],
             [
              0.7777777777777778,
              "#fb9f3a"
             ],
             [
              0.8888888888888888,
              "#fdca26"
             ],
             [
              1,
              "#f0f921"
             ]
            ],
            "type": "heatmap"
           }
          ],
          "heatmapgl": [
           {
            "colorbar": {
             "outlinewidth": 0,
             "ticks": ""
            },
            "colorscale": [
             [
              0,
              "#0d0887"
             ],
             [
              0.1111111111111111,
              "#46039f"
             ],
             [
              0.2222222222222222,
              "#7201a8"
             ],
             [
              0.3333333333333333,
              "#9c179e"
             ],
             [
              0.4444444444444444,
              "#bd3786"
             ],
             [
              0.5555555555555556,
              "#d8576b"
             ],
             [
              0.6666666666666666,
              "#ed7953"
             ],
             [
              0.7777777777777778,
              "#fb9f3a"
             ],
             [
              0.8888888888888888,
              "#fdca26"
             ],
             [
              1,
              "#f0f921"
             ]
            ],
            "type": "heatmapgl"
           }
          ],
          "histogram": [
           {
            "marker": {
             "pattern": {
              "fillmode": "overlay",
              "size": 10,
              "solidity": 0.2
             }
            },
            "type": "histogram"
           }
          ],
          "histogram2d": [
           {
            "colorbar": {
             "outlinewidth": 0,
             "ticks": ""
            },
            "colorscale": [
             [
              0,
              "#0d0887"
             ],
             [
              0.1111111111111111,
              "#46039f"
             ],
             [
              0.2222222222222222,
              "#7201a8"
             ],
             [
              0.3333333333333333,
              "#9c179e"
             ],
             [
              0.4444444444444444,
              "#bd3786"
             ],
             [
              0.5555555555555556,
              "#d8576b"
             ],
             [
              0.6666666666666666,
              "#ed7953"
             ],
             [
              0.7777777777777778,
              "#fb9f3a"
             ],
             [
              0.8888888888888888,
              "#fdca26"
             ],
             [
              1,
              "#f0f921"
             ]
            ],
            "type": "histogram2d"
           }
          ],
          "histogram2dcontour": [
           {
            "colorbar": {
             "outlinewidth": 0,
             "ticks": ""
            },
            "colorscale": [
             [
              0,
              "#0d0887"
             ],
             [
              0.1111111111111111,
              "#46039f"
             ],
             [
              0.2222222222222222,
              "#7201a8"
             ],
             [
              0.3333333333333333,
              "#9c179e"
             ],
             [
              0.4444444444444444,
              "#bd3786"
             ],
             [
              0.5555555555555556,
              "#d8576b"
             ],
             [
              0.6666666666666666,
              "#ed7953"
             ],
             [
              0.7777777777777778,
              "#fb9f3a"
             ],
             [
              0.8888888888888888,
              "#fdca26"
             ],
             [
              1,
              "#f0f921"
             ]
            ],
            "type": "histogram2dcontour"
           }
          ],
          "mesh3d": [
           {
            "colorbar": {
             "outlinewidth": 0,
             "ticks": ""
            },
            "type": "mesh3d"
           }
          ],
          "parcoords": [
           {
            "line": {
             "colorbar": {
              "outlinewidth": 0,
              "ticks": ""
             }
            },
            "type": "parcoords"
           }
          ],
          "pie": [
           {
            "automargin": true,
            "type": "pie"
           }
          ],
          "scatter": [
           {
            "fillpattern": {
             "fillmode": "overlay",
             "size": 10,
             "solidity": 0.2
            },
            "type": "scatter"
           }
          ],
          "scatter3d": [
           {
            "line": {
             "colorbar": {
              "outlinewidth": 0,
              "ticks": ""
             }
            },
            "marker": {
             "colorbar": {
              "outlinewidth": 0,
              "ticks": ""
             }
            },
            "type": "scatter3d"
           }
          ],
          "scattercarpet": [
           {
            "marker": {
             "colorbar": {
              "outlinewidth": 0,
              "ticks": ""
             }
            },
            "type": "scattercarpet"
           }
          ],
          "scattergeo": [
           {
            "marker": {
             "colorbar": {
              "outlinewidth": 0,
              "ticks": ""
             }
            },
            "type": "scattergeo"
           }
          ],
          "scattergl": [
           {
            "marker": {
             "colorbar": {
              "outlinewidth": 0,
              "ticks": ""
             }
            },
            "type": "scattergl"
           }
          ],
          "scattermapbox": [
           {
            "marker": {
             "colorbar": {
              "outlinewidth": 0,
              "ticks": ""
             }
            },
            "type": "scattermapbox"
           }
          ],
          "scatterpolar": [
           {
            "marker": {
             "colorbar": {
              "outlinewidth": 0,
              "ticks": ""
             }
            },
            "type": "scatterpolar"
           }
          ],
          "scatterpolargl": [
           {
            "marker": {
             "colorbar": {
              "outlinewidth": 0,
              "ticks": ""
             }
            },
            "type": "scatterpolargl"
           }
          ],
          "scatterternary": [
           {
            "marker": {
             "colorbar": {
              "outlinewidth": 0,
              "ticks": ""
             }
            },
            "type": "scatterternary"
           }
          ],
          "surface": [
           {
            "colorbar": {
             "outlinewidth": 0,
             "ticks": ""
            },
            "colorscale": [
             [
              0,
              "#0d0887"
             ],
             [
              0.1111111111111111,
              "#46039f"
             ],
             [
              0.2222222222222222,
              "#7201a8"
             ],
             [
              0.3333333333333333,
              "#9c179e"
             ],
             [
              0.4444444444444444,
              "#bd3786"
             ],
             [
              0.5555555555555556,
              "#d8576b"
             ],
             [
              0.6666666666666666,
              "#ed7953"
             ],
             [
              0.7777777777777778,
              "#fb9f3a"
             ],
             [
              0.8888888888888888,
              "#fdca26"
             ],
             [
              1,
              "#f0f921"
             ]
            ],
            "type": "surface"
           }
          ],
          "table": [
           {
            "cells": {
             "fill": {
              "color": "#EBF0F8"
             },
             "line": {
              "color": "white"
             }
            },
            "header": {
             "fill": {
              "color": "#C8D4E3"
             },
             "line": {
              "color": "white"
             }
            },
            "type": "table"
           }
          ]
         },
         "layout": {
          "annotationdefaults": {
           "arrowcolor": "#2a3f5f",
           "arrowhead": 0,
           "arrowwidth": 1
          },
          "autotypenumbers": "strict",
          "coloraxis": {
           "colorbar": {
            "outlinewidth": 0,
            "ticks": ""
           }
          },
          "colorscale": {
           "diverging": [
            [
             0,
             "#8e0152"
            ],
            [
             0.1,
             "#c51b7d"
            ],
            [
             0.2,
             "#de77ae"
            ],
            [
             0.3,
             "#f1b6da"
            ],
            [
             0.4,
             "#fde0ef"
            ],
            [
             0.5,
             "#f7f7f7"
            ],
            [
             0.6,
             "#e6f5d0"
            ],
            [
             0.7,
             "#b8e186"
            ],
            [
             0.8,
             "#7fbc41"
            ],
            [
             0.9,
             "#4d9221"
            ],
            [
             1,
             "#276419"
            ]
           ],
           "sequential": [
            [
             0,
             "#0d0887"
            ],
            [
             0.1111111111111111,
             "#46039f"
            ],
            [
             0.2222222222222222,
             "#7201a8"
            ],
            [
             0.3333333333333333,
             "#9c179e"
            ],
            [
             0.4444444444444444,
             "#bd3786"
            ],
            [
             0.5555555555555556,
             "#d8576b"
            ],
            [
             0.6666666666666666,
             "#ed7953"
            ],
            [
             0.7777777777777778,
             "#fb9f3a"
            ],
            [
             0.8888888888888888,
             "#fdca26"
            ],
            [
             1,
             "#f0f921"
            ]
           ],
           "sequentialminus": [
            [
             0,
             "#0d0887"
            ],
            [
             0.1111111111111111,
             "#46039f"
            ],
            [
             0.2222222222222222,
             "#7201a8"
            ],
            [
             0.3333333333333333,
             "#9c179e"
            ],
            [
             0.4444444444444444,
             "#bd3786"
            ],
            [
             0.5555555555555556,
             "#d8576b"
            ],
            [
             0.6666666666666666,
             "#ed7953"
            ],
            [
             0.7777777777777778,
             "#fb9f3a"
            ],
            [
             0.8888888888888888,
             "#fdca26"
            ],
            [
             1,
             "#f0f921"
            ]
           ]
          },
          "colorway": [
           "#636efa",
           "#EF553B",
           "#00cc96",
           "#ab63fa",
           "#FFA15A",
           "#19d3f3",
           "#FF6692",
           "#B6E880",
           "#FF97FF",
           "#FECB52"
          ],
          "font": {
           "color": "#2a3f5f"
          },
          "geo": {
           "bgcolor": "white",
           "lakecolor": "white",
           "landcolor": "#E5ECF6",
           "showlakes": true,
           "showland": true,
           "subunitcolor": "white"
          },
          "hoverlabel": {
           "align": "left"
          },
          "hovermode": "closest",
          "mapbox": {
           "style": "light"
          },
          "paper_bgcolor": "white",
          "plot_bgcolor": "#E5ECF6",
          "polar": {
           "angularaxis": {
            "gridcolor": "white",
            "linecolor": "white",
            "ticks": ""
           },
           "bgcolor": "#E5ECF6",
           "radialaxis": {
            "gridcolor": "white",
            "linecolor": "white",
            "ticks": ""
           }
          },
          "scene": {
           "xaxis": {
            "backgroundcolor": "#E5ECF6",
            "gridcolor": "white",
            "gridwidth": 2,
            "linecolor": "white",
            "showbackground": true,
            "ticks": "",
            "zerolinecolor": "white"
           },
           "yaxis": {
            "backgroundcolor": "#E5ECF6",
            "gridcolor": "white",
            "gridwidth": 2,
            "linecolor": "white",
            "showbackground": true,
            "ticks": "",
            "zerolinecolor": "white"
           },
           "zaxis": {
            "backgroundcolor": "#E5ECF6",
            "gridcolor": "white",
            "gridwidth": 2,
            "linecolor": "white",
            "showbackground": true,
            "ticks": "",
            "zerolinecolor": "white"
           }
          },
          "shapedefaults": {
           "line": {
            "color": "#2a3f5f"
           }
          },
          "ternary": {
           "aaxis": {
            "gridcolor": "white",
            "linecolor": "white",
            "ticks": ""
           },
           "baxis": {
            "gridcolor": "white",
            "linecolor": "white",
            "ticks": ""
           },
           "bgcolor": "#E5ECF6",
           "caxis": {
            "gridcolor": "white",
            "linecolor": "white",
            "ticks": ""
           }
          },
          "title": {
           "x": 0.05
          },
          "xaxis": {
           "automargin": true,
           "gridcolor": "white",
           "linecolor": "white",
           "ticks": "",
           "title": {
            "standoff": 15
           },
           "zerolinecolor": "white",
           "zerolinewidth": 2
          },
          "yaxis": {
           "automargin": true,
           "gridcolor": "white",
           "linecolor": "white",
           "ticks": "",
           "title": {
            "standoff": 15
           },
           "zerolinecolor": "white",
           "zerolinewidth": 2
          }
         }
        },
        "title": {
         "text": "Means of PCA Groups"
        },
        "xaxis": {
         "anchor": "y",
         "domain": [
          0,
          1
         ],
         "title": {
          "text": "PC1"
         }
        },
        "yaxis": {
         "anchor": "x",
         "domain": [
          0,
          1
         ],
         "title": {
          "text": "PC2"
         }
        }
       }
      },
      "text/html": [
       "<div>                            <div id=\"b7fc2883-0026-47f3-a3ec-e2c9ef321a47\" class=\"plotly-graph-div\" style=\"height:525px; width:100%;\"></div>            <script type=\"text/javascript\">                require([\"plotly\"], function(Plotly) {                    window.PLOTLYENV=window.PLOTLYENV || {};                                    if (document.getElementById(\"b7fc2883-0026-47f3-a3ec-e2c9ef321a47\")) {                    Plotly.newPlot(                        \"b7fc2883-0026-47f3-a3ec-e2c9ef321a47\",                        [{\"hovertemplate\":\"model=gpt2-large\\u003cbr\\u003enewline_num=1.0\\u003cbr\\u003ePC1=%{x}\\u003cbr\\u003ePC2=%{y}\\u003cextra\\u003e\\u003c\\u002fextra\\u003e\",\"legendgroup\":\"gpt2-large, 1.0\",\"marker\":{\"color\":\"#636efa\",\"symbol\":\"circle\"},\"mode\":\"markers\",\"name\":\"gpt2-large, 1.0\",\"orientation\":\"v\",\"showlegend\":true,\"x\":[0.3430778384208679],\"xaxis\":\"x\",\"y\":[0.15227018296718597],\"yaxis\":\"y\",\"type\":\"scatter\"},{\"hovertemplate\":\"model=gpt2-large\\u003cbr\\u003enewline_num=2.0\\u003cbr\\u003ePC1=%{x}\\u003cbr\\u003ePC2=%{y}\\u003cextra\\u003e\\u003c\\u002fextra\\u003e\",\"legendgroup\":\"gpt2-large, 2.0\",\"marker\":{\"color\":\"#636efa\",\"symbol\":\"square\"},\"mode\":\"markers\",\"name\":\"gpt2-large, 2.0\",\"orientation\":\"v\",\"showlegend\":true,\"x\":[0.32052573561668396],\"xaxis\":\"x\",\"y\":[0.18442313373088837],\"yaxis\":\"y\",\"type\":\"scatter\"},{\"hovertemplate\":\"model=phi-3-mini-4k-instruct\\u003cbr\\u003enewline_num=1.0\\u003cbr\\u003ePC1=%{x}\\u003cbr\\u003ePC2=%{y}\\u003cextra\\u003e\\u003c\\u002fextra\\u003e\",\"legendgroup\":\"phi-3-mini-4k-instruct, 1.0\",\"marker\":{\"color\":\"#EF553B\",\"symbol\":\"circle\"},\"mode\":\"markers\",\"name\":\"phi-3-mini-4k-instruct, 1.0\",\"orientation\":\"v\",\"showlegend\":true,\"x\":[0.27057260274887085],\"xaxis\":\"x\",\"y\":[-0.29958027601242065],\"yaxis\":\"y\",\"type\":\"scatter\"},{\"hovertemplate\":\"model=phi-3-mini-4k-instruct\\u003cbr\\u003enewline_num=2.0\\u003cbr\\u003ePC1=%{x}\\u003cbr\\u003ePC2=%{y}\\u003cextra\\u003e\\u003c\\u002fextra\\u003e\",\"legendgroup\":\"phi-3-mini-4k-instruct, 2.0\",\"marker\":{\"color\":\"#EF553B\",\"symbol\":\"square\"},\"mode\":\"markers\",\"name\":\"phi-3-mini-4k-instruct, 2.0\",\"orientation\":\"v\",\"showlegend\":true,\"x\":[-0.020827384665608406],\"xaxis\":\"x\",\"y\":[-0.11370674520730972],\"yaxis\":\"y\",\"type\":\"scatter\"},{\"marker\":{\"color\":\"green\",\"size\":10},\"mode\":\"markers\",\"name\":\"Baseline Generation Mean\",\"x\":[-0.5480093359947205],\"y\":[0.04595622047781944],\"type\":\"scatter\"}],                        {\"template\":{\"data\":{\"histogram2dcontour\":[{\"type\":\"histogram2dcontour\",\"colorbar\":{\"outlinewidth\":0,\"ticks\":\"\"},\"colorscale\":[[0.0,\"#0d0887\"],[0.1111111111111111,\"#46039f\"],[0.2222222222222222,\"#7201a8\"],[0.3333333333333333,\"#9c179e\"],[0.4444444444444444,\"#bd3786\"],[0.5555555555555556,\"#d8576b\"],[0.6666666666666666,\"#ed7953\"],[0.7777777777777778,\"#fb9f3a\"],[0.8888888888888888,\"#fdca26\"],[1.0,\"#f0f921\"]]}],\"choropleth\":[{\"type\":\"choropleth\",\"colorbar\":{\"outlinewidth\":0,\"ticks\":\"\"}}],\"histogram2d\":[{\"type\":\"histogram2d\",\"colorbar\":{\"outlinewidth\":0,\"ticks\":\"\"},\"colorscale\":[[0.0,\"#0d0887\"],[0.1111111111111111,\"#46039f\"],[0.2222222222222222,\"#7201a8\"],[0.3333333333333333,\"#9c179e\"],[0.4444444444444444,\"#bd3786\"],[0.5555555555555556,\"#d8576b\"],[0.6666666666666666,\"#ed7953\"],[0.7777777777777778,\"#fb9f3a\"],[0.8888888888888888,\"#fdca26\"],[1.0,\"#f0f921\"]]}],\"heatmap\":[{\"type\":\"heatmap\",\"colorbar\":{\"outlinewidth\":0,\"ticks\":\"\"},\"colorscale\":[[0.0,\"#0d0887\"],[0.1111111111111111,\"#46039f\"],[0.2222222222222222,\"#7201a8\"],[0.3333333333333333,\"#9c179e\"],[0.4444444444444444,\"#bd3786\"],[0.5555555555555556,\"#d8576b\"],[0.6666666666666666,\"#ed7953\"],[0.7777777777777778,\"#fb9f3a\"],[0.8888888888888888,\"#fdca26\"],[1.0,\"#f0f921\"]]}],\"heatmapgl\":[{\"type\":\"heatmapgl\",\"colorbar\":{\"outlinewidth\":0,\"ticks\":\"\"},\"colorscale\":[[0.0,\"#0d0887\"],[0.1111111111111111,\"#46039f\"],[0.2222222222222222,\"#7201a8\"],[0.3333333333333333,\"#9c179e\"],[0.4444444444444444,\"#bd3786\"],[0.5555555555555556,\"#d8576b\"],[0.6666666666666666,\"#ed7953\"],[0.7777777777777778,\"#fb9f3a\"],[0.8888888888888888,\"#fdca26\"],[1.0,\"#f0f921\"]]}],\"contourcarpet\":[{\"type\":\"contourcarpet\",\"colorbar\":{\"outlinewidth\":0,\"ticks\":\"\"}}],\"contour\":[{\"type\":\"contour\",\"colorbar\":{\"outlinewidth\":0,\"ticks\":\"\"},\"colorscale\":[[0.0,\"#0d0887\"],[0.1111111111111111,\"#46039f\"],[0.2222222222222222,\"#7201a8\"],[0.3333333333333333,\"#9c179e\"],[0.4444444444444444,\"#bd3786\"],[0.5555555555555556,\"#d8576b\"],[0.6666666666666666,\"#ed7953\"],[0.7777777777777778,\"#fb9f3a\"],[0.8888888888888888,\"#fdca26\"],[1.0,\"#f0f921\"]]}],\"surface\":[{\"type\":\"surface\",\"colorbar\":{\"outlinewidth\":0,\"ticks\":\"\"},\"colorscale\":[[0.0,\"#0d0887\"],[0.1111111111111111,\"#46039f\"],[0.2222222222222222,\"#7201a8\"],[0.3333333333333333,\"#9c179e\"],[0.4444444444444444,\"#bd3786\"],[0.5555555555555556,\"#d8576b\"],[0.6666666666666666,\"#ed7953\"],[0.7777777777777778,\"#fb9f3a\"],[0.8888888888888888,\"#fdca26\"],[1.0,\"#f0f921\"]]}],\"mesh3d\":[{\"type\":\"mesh3d\",\"colorbar\":{\"outlinewidth\":0,\"ticks\":\"\"}}],\"scatter\":[{\"fillpattern\":{\"fillmode\":\"overlay\",\"size\":10,\"solidity\":0.2},\"type\":\"scatter\"}],\"parcoords\":[{\"type\":\"parcoords\",\"line\":{\"colorbar\":{\"outlinewidth\":0,\"ticks\":\"\"}}}],\"scatterpolargl\":[{\"type\":\"scatterpolargl\",\"marker\":{\"colorbar\":{\"outlinewidth\":0,\"ticks\":\"\"}}}],\"bar\":[{\"error_x\":{\"color\":\"#2a3f5f\"},\"error_y\":{\"color\":\"#2a3f5f\"},\"marker\":{\"line\":{\"color\":\"#E5ECF6\",\"width\":0.5},\"pattern\":{\"fillmode\":\"overlay\",\"size\":10,\"solidity\":0.2}},\"type\":\"bar\"}],\"scattergeo\":[{\"type\":\"scattergeo\",\"marker\":{\"colorbar\":{\"outlinewidth\":0,\"ticks\":\"\"}}}],\"scatterpolar\":[{\"type\":\"scatterpolar\",\"marker\":{\"colorbar\":{\"outlinewidth\":0,\"ticks\":\"\"}}}],\"histogram\":[{\"marker\":{\"pattern\":{\"fillmode\":\"overlay\",\"size\":10,\"solidity\":0.2}},\"type\":\"histogram\"}],\"scattergl\":[{\"type\":\"scattergl\",\"marker\":{\"colorbar\":{\"outlinewidth\":0,\"ticks\":\"\"}}}],\"scatter3d\":[{\"type\":\"scatter3d\",\"line\":{\"colorbar\":{\"outlinewidth\":0,\"ticks\":\"\"}},\"marker\":{\"colorbar\":{\"outlinewidth\":0,\"ticks\":\"\"}}}],\"scattermapbox\":[{\"type\":\"scattermapbox\",\"marker\":{\"colorbar\":{\"outlinewidth\":0,\"ticks\":\"\"}}}],\"scatterternary\":[{\"type\":\"scatterternary\",\"marker\":{\"colorbar\":{\"outlinewidth\":0,\"ticks\":\"\"}}}],\"scattercarpet\":[{\"type\":\"scattercarpet\",\"marker\":{\"colorbar\":{\"outlinewidth\":0,\"ticks\":\"\"}}}],\"carpet\":[{\"aaxis\":{\"endlinecolor\":\"#2a3f5f\",\"gridcolor\":\"white\",\"linecolor\":\"white\",\"minorgridcolor\":\"white\",\"startlinecolor\":\"#2a3f5f\"},\"baxis\":{\"endlinecolor\":\"#2a3f5f\",\"gridcolor\":\"white\",\"linecolor\":\"white\",\"minorgridcolor\":\"white\",\"startlinecolor\":\"#2a3f5f\"},\"type\":\"carpet\"}],\"table\":[{\"cells\":{\"fill\":{\"color\":\"#EBF0F8\"},\"line\":{\"color\":\"white\"}},\"header\":{\"fill\":{\"color\":\"#C8D4E3\"},\"line\":{\"color\":\"white\"}},\"type\":\"table\"}],\"barpolar\":[{\"marker\":{\"line\":{\"color\":\"#E5ECF6\",\"width\":0.5},\"pattern\":{\"fillmode\":\"overlay\",\"size\":10,\"solidity\":0.2}},\"type\":\"barpolar\"}],\"pie\":[{\"automargin\":true,\"type\":\"pie\"}]},\"layout\":{\"autotypenumbers\":\"strict\",\"colorway\":[\"#636efa\",\"#EF553B\",\"#00cc96\",\"#ab63fa\",\"#FFA15A\",\"#19d3f3\",\"#FF6692\",\"#B6E880\",\"#FF97FF\",\"#FECB52\"],\"font\":{\"color\":\"#2a3f5f\"},\"hovermode\":\"closest\",\"hoverlabel\":{\"align\":\"left\"},\"paper_bgcolor\":\"white\",\"plot_bgcolor\":\"#E5ECF6\",\"polar\":{\"bgcolor\":\"#E5ECF6\",\"angularaxis\":{\"gridcolor\":\"white\",\"linecolor\":\"white\",\"ticks\":\"\"},\"radialaxis\":{\"gridcolor\":\"white\",\"linecolor\":\"white\",\"ticks\":\"\"}},\"ternary\":{\"bgcolor\":\"#E5ECF6\",\"aaxis\":{\"gridcolor\":\"white\",\"linecolor\":\"white\",\"ticks\":\"\"},\"baxis\":{\"gridcolor\":\"white\",\"linecolor\":\"white\",\"ticks\":\"\"},\"caxis\":{\"gridcolor\":\"white\",\"linecolor\":\"white\",\"ticks\":\"\"}},\"coloraxis\":{\"colorbar\":{\"outlinewidth\":0,\"ticks\":\"\"}},\"colorscale\":{\"sequential\":[[0.0,\"#0d0887\"],[0.1111111111111111,\"#46039f\"],[0.2222222222222222,\"#7201a8\"],[0.3333333333333333,\"#9c179e\"],[0.4444444444444444,\"#bd3786\"],[0.5555555555555556,\"#d8576b\"],[0.6666666666666666,\"#ed7953\"],[0.7777777777777778,\"#fb9f3a\"],[0.8888888888888888,\"#fdca26\"],[1.0,\"#f0f921\"]],\"sequentialminus\":[[0.0,\"#0d0887\"],[0.1111111111111111,\"#46039f\"],[0.2222222222222222,\"#7201a8\"],[0.3333333333333333,\"#9c179e\"],[0.4444444444444444,\"#bd3786\"],[0.5555555555555556,\"#d8576b\"],[0.6666666666666666,\"#ed7953\"],[0.7777777777777778,\"#fb9f3a\"],[0.8888888888888888,\"#fdca26\"],[1.0,\"#f0f921\"]],\"diverging\":[[0,\"#8e0152\"],[0.1,\"#c51b7d\"],[0.2,\"#de77ae\"],[0.3,\"#f1b6da\"],[0.4,\"#fde0ef\"],[0.5,\"#f7f7f7\"],[0.6,\"#e6f5d0\"],[0.7,\"#b8e186\"],[0.8,\"#7fbc41\"],[0.9,\"#4d9221\"],[1,\"#276419\"]]},\"xaxis\":{\"gridcolor\":\"white\",\"linecolor\":\"white\",\"ticks\":\"\",\"title\":{\"standoff\":15},\"zerolinecolor\":\"white\",\"automargin\":true,\"zerolinewidth\":2},\"yaxis\":{\"gridcolor\":\"white\",\"linecolor\":\"white\",\"ticks\":\"\",\"title\":{\"standoff\":15},\"zerolinecolor\":\"white\",\"automargin\":true,\"zerolinewidth\":2},\"scene\":{\"xaxis\":{\"backgroundcolor\":\"#E5ECF6\",\"gridcolor\":\"white\",\"linecolor\":\"white\",\"showbackground\":true,\"ticks\":\"\",\"zerolinecolor\":\"white\",\"gridwidth\":2},\"yaxis\":{\"backgroundcolor\":\"#E5ECF6\",\"gridcolor\":\"white\",\"linecolor\":\"white\",\"showbackground\":true,\"ticks\":\"\",\"zerolinecolor\":\"white\",\"gridwidth\":2},\"zaxis\":{\"backgroundcolor\":\"#E5ECF6\",\"gridcolor\":\"white\",\"linecolor\":\"white\",\"showbackground\":true,\"ticks\":\"\",\"zerolinecolor\":\"white\",\"gridwidth\":2}},\"shapedefaults\":{\"line\":{\"color\":\"#2a3f5f\"}},\"annotationdefaults\":{\"arrowcolor\":\"#2a3f5f\",\"arrowhead\":0,\"arrowwidth\":1},\"geo\":{\"bgcolor\":\"white\",\"landcolor\":\"#E5ECF6\",\"subunitcolor\":\"white\",\"showland\":true,\"showlakes\":true,\"lakecolor\":\"white\"},\"title\":{\"x\":0.05},\"mapbox\":{\"style\":\"light\"}}},\"xaxis\":{\"anchor\":\"y\",\"domain\":[0.0,1.0],\"title\":{\"text\":\"PC1\"}},\"yaxis\":{\"anchor\":\"x\",\"domain\":[0.0,1.0],\"title\":{\"text\":\"PC2\"}},\"legend\":{\"title\":{\"text\":\"model, newline_num\"},\"tracegroupgap\":0},\"title\":{\"text\":\"Means of PCA Groups\"},\"coloraxis\":{\"colorbar\":{\"yanchor\":\"top\",\"y\":1,\"x\":100,\"xref\":\"container\"}}},                        {\"responsive\": true}                    ).then(function(){\n",
       "                            \n",
       "var gd = document.getElementById('b7fc2883-0026-47f3-a3ec-e2c9ef321a47');\n",
       "var x = new MutationObserver(function (mutations, observer) {{\n",
       "        var display = window.getComputedStyle(gd).display;\n",
       "        if (!display || display === 'none') {{\n",
       "            console.log([gd, 'removed!']);\n",
       "            Plotly.purge(gd);\n",
       "            observer.disconnect();\n",
       "        }}\n",
       "}});\n",
       "\n",
       "// Listen for the removal of the full notebook cells\n",
       "var notebookContainer = gd.closest('#notebook-container');\n",
       "if (notebookContainer) {{\n",
       "    x.observe(notebookContainer, {childList: true});\n",
       "}}\n",
       "\n",
       "// Listen for the clearing of the current output cell\n",
       "var outputEl = gd.closest('.output');\n",
       "if (outputEl) {{\n",
       "    x.observe(outputEl, {childList: true});\n",
       "}}\n",
       "\n",
       "                        })                };                });            </script>        </div>"
      ]
     },
     "metadata": {},
     "output_type": "display_data"
    }
   ],
   "source": [
    "pca_df = pd.DataFrame(embeddings_reduced, columns=['PC1', 'PC2'])\n",
    "pca_df['model'] = results_df['model']\n",
    "pca_df['newline_num'] = results_df['newline_num']\n",
    "\n",
    "mean_pca_df = pca_df.groupby(['model', 'newline_num']).mean().reset_index()\n",
    "print(mean_pca_df.head())\n",
    "\n",
    "# fig.add_trace(px.scatter(mean_pca_df, x='PC1', y='PC2', color='temperature', symbol='layers_string', \n",
    "#                          title='Means of PCA Groups').data[0]):\n",
    "mean_pca_df['type'] = 'Mean'\n",
    "pca_df['type'] = 'Original'\n",
    "combined_df = pd.concat([pca_df, mean_pca_df], ignore_index=True)\n",
    "# fig = px.scatter(combined_df, x='PC1', y='PC2', color='temperature', symbol='layers_string', title='PCA of Sentence Embeddings')\n",
    "\n",
    "# Plot mean points\n",
    "mean_fig = px.scatter(mean_pca_df, x='PC1', y='PC2', color='model', symbol='newline_num', title='Means of PCA Groups', symbol_sequence = ['circle', 'square', 'diamond', 'cross', 'x', 'triangle-up', 'pentagon', 'hexagon', 'octagon', 'star'])\n",
    "    \n",
    "mean_fig.add_trace(go.Scatter(x=[baseline_mean_x], y=[baseline_mean_y], mode='markers', marker=dict(color='green', size=10), name='Baseline Generation Mean'))\n",
    "\n",
    "mean_fig.update_layout(coloraxis_colorbar=dict(yanchor=\"top\", y=1, x=100, xref=\"container\"))\n",
    "\n",
    "\n",
    "mean_fig.show()"
   ]
  }
 ],
 "metadata": {
  "kernelspec": {
   "display_name": ".venv",
   "language": "python",
   "name": "python3"
  },
  "language_info": {
   "codemirror_mode": {
    "name": "ipython",
    "version": 3
   },
   "file_extension": ".py",
   "mimetype": "text/x-python",
   "name": "python",
   "nbconvert_exporter": "python",
   "pygments_lexer": "ipython3",
   "version": "3.10.14"
  }
 },
 "nbformat": 4,
 "nbformat_minor": 2
}
